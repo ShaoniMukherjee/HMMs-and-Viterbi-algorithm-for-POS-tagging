{
 "cells": [
  {
   "cell_type": "markdown",
   "metadata": {},
   "source": [
    "## POS tagging using modified Viterbi"
   ]
  },
  {
   "cell_type": "markdown",
   "metadata": {},
   "source": [
    "### Data Preparation"
   ]
  },
  {
   "cell_type": "code",
   "execution_count": 1,
   "metadata": {},
   "outputs": [],
   "source": [
    "#Importing libraries\n",
    "import nltk\n"
   ]
  },
  {
   "cell_type": "code",
   "execution_count": 2,
   "metadata": {},
   "outputs": [],
   "source": [
    "import numpy as np\n",
    "import pandas as pd\n",
    "import pprint, time\n",
    "import random\n",
    "from sklearn.model_selection import train_test_split\n",
    "from nltk.tokenize import word_tokenize\n",
    "import math"
   ]
  },
  {
   "cell_type": "code",
   "execution_count": 3,
   "metadata": {},
   "outputs": [
    {
     "name": "stderr",
     "output_type": "stream",
     "text": [
      "[nltk_data] Downloading package universal_tagset to\n",
      "[nltk_data]     C:\\Users\\haris\\AppData\\Roaming\\nltk_data...\n",
      "[nltk_data]   Package universal_tagset is already up-to-date!\n"
     ]
    },
    {
     "data": {
      "text/plain": [
       "True"
      ]
     },
     "execution_count": 3,
     "metadata": {},
     "output_type": "execute_result"
    }
   ],
   "source": [
    "nltk.download('universal_tagset')\n"
   ]
  },
  {
   "cell_type": "code",
   "execution_count": 4,
   "metadata": {},
   "outputs": [],
   "source": [
    "# reading the Treebank tagged sentences\n",
    "nltk_data = list(nltk.corpus.treebank.tagged_sents(tagset='universal'))"
   ]
  },
  {
   "cell_type": "code",
   "execution_count": 5,
   "metadata": {},
   "outputs": [
    {
     "data": {
      "text/plain": [
       "[[('Pierre', 'NOUN'),\n",
       "  ('Vinken', 'NOUN'),\n",
       "  (',', '.'),\n",
       "  ('61', 'NUM'),\n",
       "  ('years', 'NOUN'),\n",
       "  ('old', 'ADJ'),\n",
       "  (',', '.'),\n",
       "  ('will', 'VERB'),\n",
       "  ('join', 'VERB'),\n",
       "  ('the', 'DET'),\n",
       "  ('board', 'NOUN'),\n",
       "  ('as', 'ADP'),\n",
       "  ('a', 'DET'),\n",
       "  ('nonexecutive', 'ADJ'),\n",
       "  ('director', 'NOUN'),\n",
       "  ('Nov.', 'NOUN'),\n",
       "  ('29', 'NUM'),\n",
       "  ('.', '.')],\n",
       " [('Mr.', 'NOUN'),\n",
       "  ('Vinken', 'NOUN'),\n",
       "  ('is', 'VERB'),\n",
       "  ('chairman', 'NOUN'),\n",
       "  ('of', 'ADP'),\n",
       "  ('Elsevier', 'NOUN'),\n",
       "  ('N.V.', 'NOUN'),\n",
       "  (',', '.'),\n",
       "  ('the', 'DET'),\n",
       "  ('Dutch', 'NOUN'),\n",
       "  ('publishing', 'VERB'),\n",
       "  ('group', 'NOUN'),\n",
       "  ('.', '.')],\n",
       " [('Rudolph', 'NOUN'),\n",
       "  ('Agnew', 'NOUN'),\n",
       "  (',', '.'),\n",
       "  ('55', 'NUM'),\n",
       "  ('years', 'NOUN'),\n",
       "  ('old', 'ADJ'),\n",
       "  ('and', 'CONJ'),\n",
       "  ('former', 'ADJ'),\n",
       "  ('chairman', 'NOUN'),\n",
       "  ('of', 'ADP'),\n",
       "  ('Consolidated', 'NOUN'),\n",
       "  ('Gold', 'NOUN'),\n",
       "  ('Fields', 'NOUN'),\n",
       "  ('PLC', 'NOUN'),\n",
       "  (',', '.'),\n",
       "  ('was', 'VERB'),\n",
       "  ('named', 'VERB'),\n",
       "  ('*-1', 'X'),\n",
       "  ('a', 'DET'),\n",
       "  ('nonexecutive', 'ADJ'),\n",
       "  ('director', 'NOUN'),\n",
       "  ('of', 'ADP'),\n",
       "  ('this', 'DET'),\n",
       "  ('British', 'ADJ'),\n",
       "  ('industrial', 'ADJ'),\n",
       "  ('conglomerate', 'NOUN'),\n",
       "  ('.', '.')]]"
      ]
     },
     "execution_count": 5,
     "metadata": {},
     "output_type": "execute_result"
    }
   ],
   "source": [
    "# samples: Each sentence is a list of (word, pos) tuples\n",
    "\n",
    "nltk_data[:3]"
   ]
  },
  {
   "cell_type": "markdown",
   "metadata": {},
   "source": [
    "### In the list mentioned above, each element of the list is a sentence. Also, note that each sentence ends with a full stop '.' whose POS tag is also a '.'. Thus, the POS tag '.' demarcates the end of a sentence."
   ]
  },
  {
   "cell_type": "code",
   "execution_count": 6,
   "metadata": {},
   "outputs": [
    {
     "name": "stdout",
     "output_type": "stream",
     "text": [
      "2739\n",
      "1175\n",
      "[[('Many', 'ADJ'), ('are', 'VERB'), ('far', 'ADV'), ('enough', 'ADV'), ('from', 'ADP'), ('residential', 'ADJ'), ('areas', 'NOUN'), ('*', 'X'), ('to', 'PRT'), ('pass', 'VERB'), ('public', 'ADJ'), ('muster', 'NOUN'), (',', '.'), ('yet', 'CONJ'), ('close', 'ADV'), ('enough', 'ADV'), ('*', 'X'), ('to', 'PRT'), ('permit', 'VERB'), ('family', 'NOUN'), ('visits', 'NOUN'), ('.', '.')], [('I', 'PRON'), ('believe', 'VERB'), ('in', 'ADP'), ('the', 'DET'), ('system', 'NOUN'), ('.', '.')], [('``', '.'), ('Only', 'ADV'), ('five', 'NUM'), ('of', 'ADP'), ('the', 'DET'), ('40', 'NUM'), ('questions', 'NOUN'), ('were', 'VERB'), ('geography', 'NOUN'), ('questions', 'NOUN'), ('.', '.')], [('The', 'DET'), ('branch', 'NOUN'), ('of', 'ADP'), ('the', 'DET'), ('Bank', 'NOUN'), ('for', 'ADP'), ('Foreign', 'NOUN'), ('Economic', 'NOUN'), ('Affairs', 'NOUN'), ('was', 'VERB'), ('approved', 'VERB'), ('*-1', 'X'), ('last', 'ADJ'), ('spring', 'NOUN'), ('and', 'CONJ'), ('opened', 'VERB'), ('in', 'ADP'), ('July', 'NOUN'), ('.', '.')], [('The', 'DET'), ('assistant', 'ADJ'), ('HHS', 'NOUN'), ('secretary', 'NOUN'), ('said', 'VERB'), ('0', 'X'), ('the', 'DET'), ('ban', 'NOUN'), ('``', '.'), ('should', 'VERB'), ('be', 'VERB'), ('continued', 'VERB'), ('*-1', 'X'), ('indefinitely', 'ADV'), ('.', '.'), (\"''\", '.')], [('Americans', 'NOUN'), ('will', 'VERB'), ('learn', 'VERB'), ('more', 'ADV'), ('about', 'ADP'), ('*', 'X'), ('making', 'VERB'), ('products', 'NOUN'), ('for', 'ADP'), ('the', 'DET'), ('Soviets', 'NOUN'), ('.', '.')], [('Mr.', 'NOUN'), ('Hahn', 'NOUN'), ('agrees', 'VERB'), ('that', 'ADP'), ('he', 'PRON'), ('has', 'VERB'), ('a', 'DET'), ('``', '.'), ('retentive', 'ADJ'), (\"''\", '.'), ('memory', 'NOUN'), (',', '.'), ('but', 'CONJ'), ('friends', 'NOUN'), ('say', 'VERB'), ('0', 'X'), ('that', 'DET'), (\"'s\", 'VERB'), ('an', 'DET'), ('understatement', 'NOUN'), ('.', '.')], [('NTG', 'NOUN'), ('was', 'VERB'), ('formed', 'VERB'), ('*-1', 'X'), ('by', 'ADP'), ('Osborn', 'NOUN'), ('Communications', 'NOUN'), ('Corp.', 'NOUN'), ('and', 'CONJ'), ('Desai', 'NOUN'), ('Capital', 'NOUN'), ('.', '.')], [('A', 'DET'), ('$', '.'), ('107.03', 'NUM'), ('million', 'NUM'), ('*U*', 'X'), ('offering', 'NOUN'), ('of', 'ADP'), ('Santa', 'NOUN'), ('Ana', 'NOUN'), ('Community', 'NOUN'), ('Redevelopment', 'NOUN'), ('Agency', 'NOUN'), (',', '.'), ('Calif.', 'NOUN'), (',', '.'), ('tax', 'NOUN'), ('allocation', 'NOUN'), ('bonds', 'NOUN'), ('got', 'VERB'), ('off', 'PRT'), ('to', 'PRT'), ('a', 'DET'), ('slow', 'ADJ'), ('start', 'NOUN'), ('and', 'CONJ'), ('may', 'VERB'), ('be', 'VERB'), ('repriced', 'VERB'), ('*-1', 'X'), ('at', 'ADP'), ('lower', 'ADJ'), ('levels', 'NOUN'), ('today', 'NOUN'), (',', '.'), ('according', 'VERB'), ('to', 'PRT'), ('an', 'DET'), ('official', 'NOUN'), ('with', 'ADP'), ('lead', 'NOUN'), ('underwriter', 'NOUN'), ('Donaldson', 'NOUN'), ('Lufkin', 'NOUN'), ('&', 'CONJ'), ('Jenrette', 'NOUN'), ('Securities', 'NOUN'), ('Corp', 'NOUN'), ('.', '.')], [('It', 'PRON'), (\"'s\", 'VERB'), ('the', 'DET'), ('petulant', 'ADJ'), ('complaint', 'NOUN'), ('of', 'ADP'), ('an', 'DET'), ('impudent', 'ADJ'), ('American', 'NOUN'), ('whom', 'PRON'), ('Sony', 'NOUN'), ('hosted', 'VERB'), ('*T*-58', 'X'), ('for', 'ADP'), ('a', 'DET'), ('year', 'NOUN'), ('while', 'ADP'), ('he', 'PRON'), ('was', 'VERB'), ('on', 'ADP'), ('a', 'DET'), ('Luce', 'NOUN'), ('Fellowship', 'NOUN'), ('in', 'ADP'), ('Tokyo', 'NOUN'), ('--', '.'), ('to', 'ADP'), ('the', 'DET'), ('regret', 'NOUN'), ('of', 'ADP'), ('both', 'DET'), ('parties', 'NOUN'), ('.', '.')], [('But', 'CONJ'), ('Rep.', 'NOUN'), ('Marge', 'NOUN'), ('Roukema', 'NOUN'), ('-LRB-', '.'), ('R.', 'NOUN'), (',', '.'), ('N.J', 'NOUN'), ('.', '.'), ('-RRB-', '.'), ('instead', 'ADV'), ('praised', 'VERB'), ('the', 'DET'), ('House', 'NOUN'), (\"'s\", 'PRT'), ('acceptance', 'NOUN'), ('of', 'ADP'), ('a', 'DET'), ('new', 'ADJ'), ('youth', 'NOUN'), ('``', '.'), ('training', 'NOUN'), (\"''\", '.'), ('wage', 'NOUN'), (',', '.'), ('a', 'DET'), ('subminimum', 'NOUN'), ('that', 'ADP'), ('GOP', 'NOUN'), ('administrations', 'NOUN'), ('have', 'VERB'), ('sought', 'VERB'), ('*T*-1', 'X'), ('for', 'ADP'), ('many', 'ADJ'), ('years', 'NOUN'), ('.', '.')], [('Discos', 'NOUN'), ('and', 'CONJ'), ('private', 'ADJ'), ('clubs', 'NOUN'), ('are', 'VERB'), ('exempt', 'ADJ'), ('from', 'ADP'), ('the', 'DET'), ('ban', 'NOUN'), (',', '.'), ('and', 'CONJ'), ('smoking', 'NOUN'), ('will', 'VERB'), ('be', 'VERB'), ('permitted', 'VERB'), ('*-60', 'X'), ('in', 'ADP'), ('bars', 'NOUN'), ('except', 'ADP'), ('during', 'ADP'), ('meal', 'NOUN'), ('hours', 'NOUN'), (',', '.'), ('an', 'DET'), ('official', 'NOUN'), ('said', 'VERB'), ('0', 'X'), ('*T*-1', 'X'), ('.', '.')], [('Packaging', 'NOUN'), ('has', 'VERB'), ('some', 'DET'), ('drawbacks', 'NOUN'), ('.', '.')], [('It', 'PRON'), ('should', 'VERB'), ('be', 'VERB'), ('constantly', 'ADV'), ('stressed', 'VERB'), ('that', 'ADP'), ('Poland', 'NOUN'), (\"'s\", 'PRT'), ('farmers', 'NOUN'), ('mostly', 'ADV'), ('need', 'VERB'), ('a', 'DET'), ('real', 'ADJ'), ('market', 'NOUN'), ('for', 'ADP'), ('their', 'PRON'), ('products', 'NOUN'), ('.', '.')], [('The', 'DET'), ('flow', 'NOUN'), ('of', 'ADP'), ('Japanese', 'ADJ'), ('funds', 'NOUN'), ('has', 'VERB'), ('set', 'VERB'), ('in', 'ADP'), ('motion', 'NOUN'), ('``', '.'), ('a', 'DET'), ('process', 'NOUN'), ('whereby', 'ADV'), ('these', 'DET'), ('economies', 'NOUN'), ('will', 'VERB'), ('be', 'VERB'), ('knitted', 'VERB'), ('*-1', 'X'), ('together', 'PRT'), ('by', 'ADP'), ('the', 'DET'), ('great', 'ADJ'), ('Japanese', 'ADJ'), ('investment', 'NOUN'), ('machine', 'NOUN'), ('*T*-2', 'X'), (',', '.'), (\"''\", '.'), ('says', 'VERB'), ('0', 'X'), ('*T*-3', 'X'), ('Robert', 'NOUN'), ('Hormats', 'NOUN'), (',', '.'), ('vice', 'NOUN'), ('chairman', 'NOUN'), ('of', 'ADP'), ('Goldman', 'NOUN'), ('Sachs', 'NOUN'), ('International', 'NOUN'), ('Corp', 'NOUN'), ('.', '.')], [('In', 'ADP'), ('contrast', 'NOUN'), (',', '.'), ('the', 'DET'), ('lawyers', 'NOUN'), (\"'\", 'PRT'), ('association', 'NOUN'), ('gives', 'VERB'), ('a', 'DET'), ('``', '.'), ('well', 'ADV'), ('qualified', 'VERB'), (\"''\", '.'), ('rating', 'NOUN'), ('to', 'PRT'), ('those', 'DET'), ('``', '.'), ('regarded', 'VERB'), ('*', 'X'), ('as', 'ADP'), ('one', 'NUM'), ('of', 'ADP'), ('the', 'DET'), ('best', 'ADJ'), ('available', 'ADJ'), ('for', 'ADP'), ('the', 'DET'), ('vacancy', 'NOUN'), ('.', '.')], [('For', 'ADP'), ('all', 'DET'), ('the', 'DET'), ('furor', 'NOUN'), (',', '.'), ('there', 'DET'), ('is', 'VERB'), ('nothing', 'NOUN'), ('particularly', 'ADV'), ('complex', 'ADJ'), ('about', 'ADP'), ('the', 'DET'), ('concept', 'NOUN'), ('of', 'ADP'), ('stock-index', 'ADJ'), ('arbitrage', 'NOUN'), (',', '.'), ('the', 'DET'), ('most', 'ADV'), ('controversial', 'ADJ'), ('type', 'NOUN'), ('of', 'ADP'), ('computer-assisted', 'ADJ'), ('program', 'NOUN'), ('trading', 'NOUN'), ('.', '.')], [('Similar', 'ADJ'), ('levels', 'NOUN'), ('hamstrung', 'VERB'), ('barge', 'NOUN'), ('shipments', 'NOUN'), ('last', 'ADJ'), ('year', 'NOUN'), ('in', 'ADP'), ('the', 'DET'), ('wake', 'NOUN'), ('of', 'ADP'), ('the', 'DET'), ('worst', 'ADJ'), ('drought', 'NOUN'), ('in', 'ADP'), ('50', 'NUM'), ('years', 'NOUN'), ('.', '.')], [('But', 'CONJ'), ('this', 'DET'), ('case', 'NOUN'), ('is', 'VERB'), ('a', 'DET'), ('stark', 'ADJ'), ('lesson', 'NOUN'), ('in', 'ADP'), ('how', 'ADV'), ('the', 'DET'), ('failures', 'NOUN'), ('of', 'ADP'), ('the', 'DET'), ('traditional', 'ADJ'), ('policy-making', 'ADJ'), ('process', 'NOUN'), ('have', 'VERB'), ('left', 'VERB'), ('the', 'DET'), ('courts', 'NOUN'), ('as', 'ADP'), ('the', 'DET'), ('only', 'ADJ'), ('forum', 'NOUN'), ('0', 'X'), ('this', 'DET'), ('country', 'NOUN'), ('has', 'VERB'), ('*T*-2', 'X'), ('0', 'X'), ('*', 'X'), ('to', 'PRT'), ('debate', 'VERB'), ('risk', 'NOUN'), (',', '.'), ('technology', 'NOUN'), ('and', 'CONJ'), ('innovation', 'NOUN'), ('*T*-3', 'X'), ('*T*-1', 'X'), ('.', '.')], [('Wednesday', 'NOUN'), (\"'s\", 'PRT'), ('dominant', 'ADJ'), ('issue', 'NOUN'), ('was', 'VERB'), ('Yasuda', 'NOUN'), ('Fire', 'NOUN'), ('&', 'CONJ'), ('Marine', 'NOUN'), ('Insurance', 'NOUN'), (',', '.'), ('which', 'DET'), ('*T*-1', 'X'), ('continued', 'VERB'), ('*-2', 'X'), ('to', 'PRT'), ('surge', 'VERB'), ('on', 'ADP'), ('rumors', 'NOUN'), ('of', 'ADP'), ('speculative', 'ADJ'), ('buying', 'NOUN'), ('.', '.')], [('The', 'DET'), ('goverment', 'NOUN'), ('counts', 'VERB'), ('money', 'NOUN'), ('as', 'ADP'), ('it', 'PRON'), ('is', 'VERB'), ('spent', 'VERB'), ('*-53', 'X'), (';', '.'), ('Dodge', 'NOUN'), ('counts', 'VERB'), ('contracts', 'NOUN'), ('when', 'ADV'), ('they', 'PRON'), ('are', 'VERB'), ('awarded', 'VERB'), ('*-54', 'X'), ('*T*-1', 'X'), ('.', '.')], [('The', 'DET'), ('Texas', 'NOUN'), ('oilman', 'NOUN'), ('has', 'VERB'), ('acquired', 'VERB'), ('a', 'DET'), ('26.2', 'NUM'), ('%', 'NOUN'), ('stake', 'NOUN'), ('valued', 'VERB'), ('*', 'X'), ('at', 'ADP'), ('more', 'ADJ'), ('than', 'ADP'), ('$', '.'), ('1.2', 'NUM'), ('billion', 'NUM'), ('*U*', 'X'), ('in', 'ADP'), ('an', 'DET'), ('automotive-lighting', 'ADJ'), ('company', 'NOUN'), (',', '.'), ('Koito', 'NOUN'), ('Manufacturing', 'NOUN'), ('Co', 'NOUN'), ('.', '.')], [('Mary', 'NOUN'), ('Beth', 'NOUN'), ('Marchand', 'NOUN'), (',', '.'), ('a', 'DET'), ('Greenville', 'NOUN'), ('11th', 'ADJ'), ('grader', 'NOUN'), (',', '.'), ('also', 'ADV'), ('says', 'VERB'), ('0', 'X'), ('Mrs.', 'NOUN'), ('Yeargin', 'NOUN'), ('inspired', 'VERB'), ('her', 'PRON'), ('to', 'PRT'), ('go', 'VERB'), ('into', 'ADP'), ('education', 'NOUN'), ('.', '.')], [('You', 'PRON'), ('can', 'VERB'), ('even', 'ADV'), ('take', 'VERB'), ('notes', 'NOUN'), ('--', '.'), ('extensive', 'ADJ'), ('notes', 'NOUN'), (',', '.'), ('for', 'ADP'), ('the', 'DET'), ('Voice', 'NOUN'), ('folks', 'NOUN'), ('wo', 'VERB'), (\"n't\", 'ADV'), ('look', 'VERB'), ('over', 'ADP'), ('your', 'PRON'), ('shoulder', 'NOUN'), ('--', '.'), ('about', 'ADP'), ('what', 'PRON'), ('you', 'PRON'), ('read', 'VERB'), ('*T*-1', 'X'), ('.', '.')], [('Heightened', 'ADJ'), ('Japanese', 'ADJ'), ('interest', 'NOUN'), ('in', 'ADP'), ('American', 'ADJ'), ('small', 'ADJ'), ('business', 'NOUN'), ('parallels', 'VERB'), ('an', 'DET'), ('acceleration', 'NOUN'), ('of', 'ADP'), ('investments', 'NOUN'), ('giving', 'VERB'), ('Japanese', 'ADJ'), ('companies', 'NOUN'), ('control', 'NOUN'), ('of', 'ADP'), ('large', 'ADJ'), (',', '.'), ('highly', 'ADV'), ('visible', 'ADJ'), ('U.S.', 'NOUN'), ('corporations', 'NOUN'), (',', '.'), ('such', 'ADJ'), ('as', 'ADP'), ('Columbia', 'NOUN'), ('Pictures', 'NOUN'), ('Entertainment', 'NOUN'), ('Inc', 'NOUN'), ('.', '.')], [('Yale', 'NOUN'), ('is', 'VERB'), ('one', 'NUM'), ('of', 'ADP'), ('the', 'DET'), ('few', 'ADJ'), ('medical', 'ADJ'), ('institutions', 'NOUN'), ('conducting', 'VERB'), ('privately', 'ADV'), ('funded', 'ADJ'), ('research', 'NOUN'), ('on', 'ADP'), ('fetal-tissue', 'ADJ'), ('transplants', 'NOUN'), ('.', '.')], [('Many', 'ADJ'), ('grain', 'NOUN'), ('processors', 'NOUN'), ('and', 'CONJ'), ('exporters', 'NOUN'), ('use', 'VERB'), ('the', 'DET'), ('price', 'NOUN'), ('of', 'ADP'), ('the', 'DET'), ('corn', 'NOUN'), ('futures', 'NOUN'), ('contracts', 'NOUN'), ('traded', 'VERB'), ('*', 'X'), ('there', 'ADV'), ('*-1', 'X'), ('to', 'PRT'), ('calculate', 'VERB'), ('the', 'DET'), ('price', 'NOUN'), ('0', 'X'), ('they', 'PRON'), ('offer', 'VERB'), ('*T*-2', 'X'), ('*-3', 'X'), ('to', 'PRT'), ('buy', 'VERB'), ('corn', 'NOUN'), ('from', 'ADP'), ('farmers', 'NOUN'), ('.', '.')], [('In', 'ADP'), ('a', 'DET'), ('second', 'ADJ'), ('area', 'NOUN'), ('of', 'ADP'), ('common', 'ADJ'), ('concern', 'NOUN'), (',', '.'), ('the', 'DET'), ('world', 'NOUN'), ('environment', 'NOUN'), (',', '.'), ('an', 'DET'), ('additional', 'ADJ'), ('$', '.'), ('15', 'NUM'), ('million', 'NUM'), ('*U*', 'X'), ('*ICH*-1', 'X'), ('will', 'VERB'), ('be', 'VERB'), ('provided', 'VERB'), ('*-7', 'X'), ('in', 'ADP'), ('development', 'NOUN'), ('assistance', 'NOUN'), ('0', 'X'), ('*T*-2', 'X'), ('to', 'PRT'), ('fund', 'VERB'), ('a', 'DET'), ('series', 'NOUN'), ('of', 'ADP'), ('initiatives', 'NOUN'), (',', '.'), ('related', 'VERB'), ('both', 'DET'), ('to', 'PRT'), ('global', 'ADJ'), ('warming', 'NOUN'), ('and', 'CONJ'), ('the', 'DET'), ('plight', 'NOUN'), ('of', 'ADP'), ('the', 'DET'), ('African', 'ADJ'), ('elephant', 'NOUN'), ('.', '.')], [('A', 'DET'), ('driver', 'NOUN'), ('has', 'VERB'), ('*-1', 'X'), ('to', 'PRT'), ('find', 'VERB'), ('something', 'NOUN'), ('0', 'X'), ('*', 'X'), ('to', 'PRT'), ('hang', 'VERB'), ('the', 'DET'), ('carrier', 'NOUN'), ('on', 'ADP'), ('*T*-2', 'X'), (',', '.'), ('so', 'ADP'), ('the', 'DET'), ('company', 'NOUN'), ('supplies', 'VERB'), ('a', 'DET'), ('window', 'NOUN'), ('hook', 'NOUN'), ('.', '.')], [('She', 'PRON'), ('did', 'VERB'), (\"n't\", 'ADV'), ('elaborate', 'ADJ'), (',', '.'), ('although', 'ADP'), ('earlier', 'ADJ'), ('U.S.', 'NOUN'), ('trade', 'NOUN'), ('reports', 'NOUN'), ('have', 'VERB'), ('complained', 'VERB'), ('of', 'ADP'), ('videocassette', 'NOUN'), ('piracy', 'NOUN'), ('in', 'ADP'), ('Malaysia', 'NOUN'), ('and', 'CONJ'), ('disregard', 'NOUN'), ('for', 'ADP'), ('U.S.', 'NOUN'), ('pharmaceutical', 'ADJ'), ('patents', 'NOUN'), ('in', 'ADP'), ('Turkey', 'NOUN'), ('.', '.')], [('That', 'DET'), ('pattern', 'NOUN'), ('has', 'VERB'), (\"n't\", 'ADV'), ('always', 'ADV'), ('held', 'VERB'), (',', '.'), ('but', 'CONJ'), ('recent', 'ADJ'), ('strong', 'ADJ'), ('growth', 'NOUN'), ('in', 'ADP'), ('dividends', 'NOUN'), ('makes', 'VERB'), ('some', 'DET'), ('market', 'NOUN'), ('watchers', 'NOUN'), ('anxious', 'ADJ'), ('.', '.')], [('The', 'DET'), ('exchange', 'NOUN'), ('said', 'VERB'), ('0', 'X'), ('it', 'PRON'), ('decided', 'VERB'), ('0', 'X'), ('a', 'DET'), ('new', 'ADJ'), ('circuit', 'NOUN'), ('breaker', 'NOUN'), ('was', 'VERB'), ('needed', 'VERB'), ('*-126', 'X'), ('following', 'VERB'), ('a', 'DET'), ('review', 'NOUN'), ('of', 'ADP'), ('the', 'DET'), ('tumultuous', 'ADJ'), ('trading', 'VERB'), ('in', 'ADP'), ('stocks', 'NOUN'), ('and', 'CONJ'), ('stock-index', 'ADJ'), ('futures', 'NOUN'), ('on', 'ADP'), ('Friday', 'NOUN'), ('Oct.', 'NOUN'), ('13', 'NUM'), (',', '.'), ('when', 'ADV'), ('the', 'DET'), ('Dow', 'NOUN'), ('Jones', 'NOUN'), ('industrials', 'NOUN'), ('plunged', 'VERB'), ('190', 'NUM'), ('points', 'NOUN'), ('*T*-1', 'X'), ('and', 'CONJ'), ('stock-index', 'ADJ'), ('futures', 'NOUN'), ('prices', 'NOUN'), ('skidded', 'VERB'), ('as', 'ADV'), ('well', 'ADV'), ('*T*-1', 'X'), ('.', '.')], [('In', 'ADP'), ('Tokyo', 'NOUN'), ('Thursday', 'NOUN'), (',', '.'), ('the', 'DET'), ('U.S.', 'ADJ'), ('currency', 'NOUN'), ('opened', 'VERB'), ('for', 'ADP'), ('trading', 'NOUN'), ('at', 'ADP'), ('143.93', 'NUM'), ('yen', 'NOUN'), (',', '.'), ('up', 'ADV'), ('from', 'ADP'), ('Wednesday', 'NOUN'), (\"'s\", 'PRT'), ('Tokyo', 'NOUN'), ('close', 'NOUN'), ('of', 'ADP'), ('143.08', 'NUM'), ('yen', 'NOUN'), ('.', '.')], [('In', 'ADP'), ('Washington', 'NOUN'), (',', '.'), ('House', 'NOUN'), ('aides', 'NOUN'), ('said', 'VERB'), ('0', 'X'), ('Mr.', 'NOUN'), ('Phelan', 'NOUN'), ('told', 'VERB'), ('congressmen', 'NOUN'), ('that', 'ADP'), ('the', 'DET'), ('collar', 'NOUN'), (',', '.'), ('which', 'DET'), ('*T*-213', 'X'), ('banned', 'VERB'), ('program', 'NOUN'), ('trades', 'NOUN'), ('through', 'ADP'), ('the', 'DET'), ('Big', 'NOUN'), ('Board', 'NOUN'), (\"'s\", 'PRT'), ('computer', 'NOUN'), ('when', 'ADV'), ('the', 'DET'), ('Dow', 'NOUN'), ('Jones', 'NOUN'), ('Industrial', 'NOUN'), ('Average', 'NOUN'), ('moved', 'VERB'), ('50', 'NUM'), ('points', 'NOUN'), ('*T*-1', 'X'), (',', '.'), ('did', 'VERB'), (\"n't\", 'ADV'), ('work', 'VERB'), ('well', 'ADV'), ('.', '.')], [('In', 'ADP'), ('a', 'DET'), ('few', 'ADJ'), ('weeks', 'NOUN'), (',', '.'), ('many', 'ADJ'), ('barges', 'NOUN'), ('probably', 'ADV'), ('wo', 'VERB'), (\"n't\", 'ADV'), ('be', 'VERB'), ('able', 'ADJ'), ('*-2', 'X'), ('to', 'PRT'), ('operate', 'VERB'), ('fully', 'ADV'), ('loaded', 'VERB'), ('south', 'ADV'), ('of', 'ADP'), ('St.', 'NOUN'), ('Louis', 'NOUN'), ('because', 'ADP'), ('the', 'DET'), ('U.S.', 'NOUN'), ('Army', 'NOUN'), ('Corps', 'NOUN'), ('of', 'ADP'), ('Engineers', 'NOUN'), ('is', 'VERB'), ('beginning', 'VERB'), ('*-3', 'X'), ('to', 'PRT'), ('reduce', 'VERB'), ('the', 'DET'), ('flow', 'NOUN'), ('of', 'ADP'), ('the', 'DET'), ('Missouri', 'NOUN'), ('River', 'NOUN'), (',', '.'), ('which', 'DET'), ('*T*-1', 'X'), ('feeds', 'VERB'), ('into', 'ADP'), ('the', 'DET'), ('Mississippi', 'NOUN'), ('River', 'NOUN'), ('.', '.')], [('The', 'DET'), ('reason', 'NOUN'), (':', '.'), ('Share', 'NOUN'), ('prices', 'NOUN'), ('of', 'ADP'), ('many', 'ADJ'), ('of', 'ADP'), ('these', 'DET'), ('funds', 'NOUN'), ('this', 'DET'), ('year', 'NOUN'), ('have', 'VERB'), ('climbed', 'VERB'), ('much', 'ADV'), ('more', 'ADV'), ('sharply', 'ADV'), ('than', 'ADP'), ('the', 'DET'), ('foreign', 'ADJ'), ('stocks', 'NOUN'), ('0', 'X'), ('they', 'PRON'), ('hold', 'VERB'), ('*T*-1', 'X'), ('.', '.')], [('And', 'CONJ'), (',', '.'), ('unlike', 'ADP'), ('a', 'DET'), ('few', 'ADJ'), ('years', 'NOUN'), ('ago', 'ADV'), (',', '.'), ('you', 'PRON'), ('do', 'VERB'), (\"n't\", 'ADV'), ('even', 'ADV'), ('have', 'VERB'), ('*-1', 'X'), ('to', 'PRT'), ('worry', 'VERB'), ('whether', 'ADP'), ('the', 'DET'), ('ad', 'NOUN'), ('is', 'VERB'), ('truthful', 'ADJ'), ('.', '.'), (\"''\", '.')], [('``', '.'), ('Or', 'CONJ'), ('if', 'ADP'), ('they', 'PRON'), ('feel', 'VERB'), ('0', 'X'), ('the', 'DET'), ('wine', 'NOUN'), ('is', 'VERB'), ('overpriced', 'VERB'), ('*-99', 'X'), ('and', 'CONJ'), ('0', 'X'), ('they', 'PRON'), ('can', 'VERB'), ('get', 'VERB'), ('something', 'NOUN'), ('equally', 'ADV'), ('good', 'ADJ'), ('for', 'ADP'), ('less', 'ADJ'), ('.', '.'), (\"''\", '.')], [('The', 'DET'), ('USX', 'NOUN'), ('citations', 'NOUN'), ('represented', 'VERB'), ('the', 'DET'), ('first', 'ADJ'), ('sizable', 'ADJ'), ('enforcement', 'NOUN'), ('action', 'NOUN'), ('taken', 'VERB'), ('*', 'X'), ('by', 'ADP'), ('OSHA', 'NOUN'), ('under', 'ADP'), ('Mr.', 'NOUN'), ('Scannell', 'NOUN'), ('.', '.')], [('Of', 'ADP'), ('course', 'NOUN'), (',', '.'), ('regulators', 'NOUN'), ('would', 'VERB'), ('have', 'VERB'), ('*-1', 'X'), ('to', 'PRT'), ('approve', 'VERB'), ('Columbia', 'NOUN'), (\"'s\", 'PRT'), ('reorganization', 'NOUN'), ('.', '.')]]\n"
     ]
    }
   ],
   "source": [
    "# Splitting into train and test\n",
    "random.seed(1234)\n",
    "train_set, test_set = train_test_split(nltk_data,test_size=0.3)\n",
    "\n",
    "print(len(train_set))\n",
    "print(len(test_set))\n",
    "print(train_set[:40])"
   ]
  },
  {
   "cell_type": "code",
   "execution_count": 7,
   "metadata": {},
   "outputs": [],
   "source": [
    "# Getting list of tagged words\n",
    "train_tagged_words = [tup for sent in train_set for tup in sent]\n",
    "test_tagged_words = [tup[0] for sent in test_set for tup in sent]\n"
   ]
  },
  {
   "cell_type": "code",
   "execution_count": 8,
   "metadata": {},
   "outputs": [],
   "source": [
    "test_tagged_words = [tup[0] for sent in test_set for tup in sent]\n"
   ]
  },
  {
   "cell_type": "code",
   "execution_count": 9,
   "metadata": {},
   "outputs": [
    {
     "name": "stdout",
     "output_type": "stream",
     "text": [
      "30081\n",
      "70595\n"
     ]
    }
   ],
   "source": [
    "print(len(test_tagged_words))\n",
    "print(len(train_tagged_words))"
   ]
  },
  {
   "cell_type": "code",
   "execution_count": 10,
   "metadata": {},
   "outputs": [
    {
     "data": {
      "text/plain": [
       "[('are', 'VERB'), ('far', 'ADV'), ('enough', 'ADV'), ('from', 'ADP')]"
      ]
     },
     "execution_count": 10,
     "metadata": {},
     "output_type": "execute_result"
    }
   ],
   "source": [
    "train_tagged_words[1:5]"
   ]
  },
  {
   "cell_type": "code",
   "execution_count": 11,
   "metadata": {},
   "outputs": [
    {
     "data": {
      "text/plain": [
       "12"
      ]
     },
     "execution_count": 11,
     "metadata": {},
     "output_type": "execute_result"
    }
   ],
   "source": [
    "#Lets check how many unique POS tags in the corpus\n",
    "\n",
    "tags =  [pair[1] for pair in train_tagged_words]\n",
    "unique_tags = set(tags)\n",
    "len(unique_tags)"
   ]
  },
  {
   "cell_type": "code",
   "execution_count": 12,
   "metadata": {},
   "outputs": [
    {
     "name": "stdout",
     "output_type": "stream",
     "text": [
      "{'PRON', 'PRT', 'CONJ', 'ADJ', 'NOUN', 'X', '.', 'ADV', 'NUM', 'VERB', 'DET', 'ADP'}\n"
     ]
    }
   ],
   "source": [
    "#the unique tags are follows:\n",
    "print(unique_tags)"
   ]
  },
  {
   "cell_type": "code",
   "execution_count": 13,
   "metadata": {},
   "outputs": [
    {
     "data": {
      "text/plain": [
       "['Many',\n",
       " 'are',\n",
       " 'far',\n",
       " 'enough',\n",
       " 'from',\n",
       " 'residential',\n",
       " 'areas',\n",
       " '*',\n",
       " 'to',\n",
       " 'pass']"
      ]
     },
     "execution_count": 13,
     "metadata": {},
     "output_type": "execute_result"
    }
   ],
   "source": [
    "# tokens \n",
    "tokens = [pair[0] for pair in train_tagged_words]\n",
    "tokens[:10]"
   ]
  },
  {
   "cell_type": "code",
   "execution_count": 14,
   "metadata": {},
   "outputs": [
    {
     "name": "stdout",
     "output_type": "stream",
     "text": [
      "10145\n"
     ]
    }
   ],
   "source": [
    "# vocabulary\n",
    "V = set(tokens)\n",
    "print(len(V))"
   ]
  },
  {
   "cell_type": "code",
   "execution_count": 15,
   "metadata": {},
   "outputs": [
    {
     "data": {
      "text/plain": [
       "12"
      ]
     },
     "execution_count": 15,
     "metadata": {},
     "output_type": "execute_result"
    }
   ],
   "source": [
    "# number of tags\n",
    "T = set([pair[1] for pair in train_tagged_words])\n",
    "len(T)"
   ]
  },
  {
   "cell_type": "code",
   "execution_count": 16,
   "metadata": {},
   "outputs": [
    {
     "name": "stdout",
     "output_type": "stream",
     "text": [
      "{'PRON', 'PRT', 'CONJ', 'ADJ', 'NOUN', 'X', '.', 'ADV', 'NUM', 'VERB', 'DET', 'ADP'}\n"
     ]
    }
   ],
   "source": [
    "print(T)"
   ]
  },
  {
   "cell_type": "markdown",
   "metadata": {},
   "source": [
    "### POS Tagging Algorithm - HMM\n",
    "We'll use the HMM algorithm to tag the words. Given a sequence of words to be tagged, the task is to assign the most probable tag to the word.\n",
    "\n",
    "In other words, to every word w, assign the tag t that maximises the likelihood P(t/w). Since P(t/w) = P(w/t). P(t) / P(w), after ignoring P(w), we have to compute P(w/t) and P(t).\n",
    "\n",
    "P(w/t) is basically the probability that given a tag (say NN), what is the probability of it being w (say 'building'). This can be computed by computing the fraction of all NNs which are equal to w, i.e.\n",
    "\n",
    "P(w/t) = count(w, t) / count(t).\n",
    "\n",
    "The term P(t) is the probability of tag t, and in a tagging task, we assume that a tag will depend only on the previous tag. In other words, the probability of a tag being NN will depend only on the previous tag t(n-1). So for e.g. if t(n-1) is a JJ, then t(n) is likely to be an NN since adjectives often precede a noun (blue coat, tall building etc.)."
   ]
  },
  {
   "cell_type": "markdown",
   "metadata": {},
   "source": [
    "### Build the vanilla Viterbi based POS tagger"
   ]
  },
  {
   "cell_type": "markdown",
   "metadata": {},
   "source": [
    "## Emission Probabilities\n"
   ]
  },
  {
   "cell_type": "code",
   "execution_count": 17,
   "metadata": {},
   "outputs": [],
   "source": [
    "# computing P(w/t) and storing in T x V matrix\n",
    "t = len(T)\n",
    "v = len(V)\n",
    "w_given_t = np.zeros((t, v))"
   ]
  },
  {
   "cell_type": "code",
   "execution_count": 18,
   "metadata": {},
   "outputs": [],
   "source": [
    "# compute word given tag: Emission Probability\n",
    "def word_given_tag(word, tag, train_bag = train_tagged_words):\n",
    "    tag_list = [pair for pair in train_bag if pair[1]==tag]\n",
    "    count_tag = len(tag_list)\n",
    "    w_given_tag_list = [pair[0] for pair in tag_list if pair[0]==word]\n",
    "    count_w_given_tag = len(w_given_tag_list)\n",
    "    \n",
    "    return (count_w_given_tag, count_tag)"
   ]
  },
  {
   "cell_type": "code",
   "execution_count": 19,
   "metadata": {},
   "outputs": [],
   "source": [
    "# compute tag given tag: tag2(t2) given tag1 (t1), i.e. Transition Probability\n",
    "\n",
    "def t2_given_t1(t2, t1, train_bag = train_tagged_words):\n",
    "    tags = [pair[1] for pair in train_bag]\n",
    "    count_t1 = len([t for t in tags if t==t1])\n",
    "    count_t2_t1 = 0\n",
    "    for index in range(len(tags)-1):\n",
    "        if tags[index]==t1 and tags[index+1] == t2:\n",
    "            count_t2_t1 += 1\n",
    "    return (count_t2_t1, count_t1)"
   ]
  },
  {
   "cell_type": "code",
   "execution_count": 20,
   "metadata": {},
   "outputs": [
    {
     "name": "stdout",
     "output_type": "stream",
     "text": [
      "(3954, 6208)\n"
     ]
    }
   ],
   "source": [
    "# examples\n",
    "print(t2_given_t1('NOUN', 'DET'))"
   ]
  },
  {
   "cell_type": "code",
   "execution_count": 21,
   "metadata": {},
   "outputs": [],
   "source": [
    "# creating t x t transition matrix of tags\n",
    "# each column is t2, each row is t1\n",
    "# thus M(i, j) represents P(tj given ti)\n",
    "\n",
    "tags_matrix = np.zeros((len(T), len(T)), dtype='float32')\n",
    "for i, t1 in enumerate(list(T)):\n",
    "    for j, t2 in enumerate(list(T)): \n",
    "        tags_matrix[i, j] = t2_given_t1(t2, t1)[0]/t2_given_t1(t2, t1)[1]"
   ]
  },
  {
   "cell_type": "code",
   "execution_count": 22,
   "metadata": {},
   "outputs": [
    {
     "data": {
      "text/plain": [
       "array([[7.86163565e-03, 1.25786159e-02, 3.66876321e-03, 6.97064996e-02,\n",
       "        2.04402521e-01, 9.74842757e-02, 4.03563939e-02, 3.35429758e-02,\n",
       "        7.86163565e-03, 4.95807141e-01, 9.43396240e-03, 1.72955971e-02],\n",
       "       [2.02520248e-02, 2.70026992e-03, 1.80018006e-03, 8.46084580e-02,\n",
       "        2.41674170e-01, 1.03510348e-02, 4.50045019e-02, 9.90098994e-03,\n",
       "        5.62556274e-02, 4.05940592e-01, 1.00360036e-01, 2.11521145e-02],\n",
       "       [6.21468909e-02, 5.02197118e-03, 0.00000000e+00, 1.17388576e-01,\n",
       "        3.54048967e-01, 7.53295654e-03, 3.51537988e-02, 5.08474559e-02,\n",
       "        4.58254851e-02, 1.50031388e-01, 1.19899563e-01, 5.21029495e-02],\n",
       "       [6.71441376e-04, 1.02954339e-02, 1.70098487e-02, 6.64726943e-02,\n",
       "        6.96508527e-01, 2.08146814e-02, 6.51298091e-02, 4.25246218e-03,\n",
       "        2.28290055e-02, 1.32050132e-02, 6.26678625e-03, 7.65443146e-02],\n",
       "       [4.86859772e-03, 4.29231450e-02, 4.18301970e-02, 1.20721348e-02,\n",
       "        2.63351381e-01, 2.91122254e-02, 2.42684677e-01, 1.62948985e-02,\n",
       "        8.79328325e-03, 1.47647679e-01, 1.35128424e-02, 1.76908940e-01],\n",
       "       [5.22114336e-02, 1.84681773e-01, 1.01402374e-02, 1.68284792e-02,\n",
       "        6.38619214e-02, 7.48651549e-02, 1.67421788e-01, 2.52427179e-02,\n",
       "        2.37324694e-03, 2.04746500e-01, 5.35059348e-02, 1.44120812e-01],\n",
       "       [6.59831092e-02, 2.05066334e-03, 6.09167665e-02, 4.29433063e-02,\n",
       "        2.17129067e-01, 2.61761155e-02, 9.63811800e-02, 5.31966239e-02,\n",
       "        8.04583803e-02, 8.64897445e-02, 1.73582628e-01, 9.45717767e-02],\n",
       "       [1.40208052e-02, 1.49253728e-02, 6.78426074e-03, 1.23925827e-01,\n",
       "        3.52781564e-02, 2.08050665e-02, 1.34328365e-01, 8.00542757e-02,\n",
       "        3.03030312e-02, 3.43735874e-01, 7.19131604e-02, 1.23925827e-01],\n",
       "       [1.61225314e-03, 2.53929868e-02, 1.45102777e-02, 3.42603773e-02,\n",
       "        3.51471186e-01, 2.13623539e-01, 1.12051591e-01, 3.62756941e-03,\n",
       "        1.87424421e-01, 1.73317213e-02, 2.82144290e-03, 3.58726308e-02],\n",
       "       [3.34908143e-02, 3.07611544e-02, 5.56430453e-03, 6.47769049e-02,\n",
       "        1.08766407e-01, 2.16587931e-01, 3.71653549e-02, 8.16797912e-02,\n",
       "        2.30971128e-02, 1.70918629e-01, 1.36272967e-01, 9.09186378e-02],\n",
       "       [3.70489690e-03, 3.22164939e-04, 4.83247422e-04, 2.07313150e-01,\n",
       "        6.36920094e-01, 4.46198471e-02, 1.73969064e-02, 1.24033503e-02,\n",
       "        2.09407210e-02, 4.12371121e-02, 5.47680398e-03, 9.18170065e-03],\n",
       "       [6.96028918e-02, 1.44404336e-03, 7.22021679e-04, 1.04259931e-01,\n",
       "        3.16101074e-01, 3.68231051e-02, 3.88447642e-02, 1.41516244e-02,\n",
       "        6.19494580e-02, 7.79783400e-03, 3.30830336e-01, 1.74729247e-02]],\n",
       "      dtype=float32)"
      ]
     },
     "execution_count": 22,
     "metadata": {},
     "output_type": "execute_result"
    }
   ],
   "source": [
    "tags_matrix"
   ]
  },
  {
   "cell_type": "code",
   "execution_count": 23,
   "metadata": {},
   "outputs": [],
   "source": [
    "# convert the matrix to a df for better readability\n",
    "tags_df = pd.DataFrame(tags_matrix, columns = list(T), index=list(T))"
   ]
  },
  {
   "cell_type": "code",
   "execution_count": 24,
   "metadata": {},
   "outputs": [
    {
     "data": {
      "text/html": [
       "<div>\n",
       "<style scoped>\n",
       "    .dataframe tbody tr th:only-of-type {\n",
       "        vertical-align: middle;\n",
       "    }\n",
       "\n",
       "    .dataframe tbody tr th {\n",
       "        vertical-align: top;\n",
       "    }\n",
       "\n",
       "    .dataframe thead th {\n",
       "        text-align: right;\n",
       "    }\n",
       "</style>\n",
       "<table border=\"1\" class=\"dataframe\">\n",
       "  <thead>\n",
       "    <tr style=\"text-align: right;\">\n",
       "      <th></th>\n",
       "      <th>PRON</th>\n",
       "      <th>PRT</th>\n",
       "      <th>CONJ</th>\n",
       "      <th>ADJ</th>\n",
       "      <th>NOUN</th>\n",
       "      <th>X</th>\n",
       "      <th>.</th>\n",
       "      <th>ADV</th>\n",
       "      <th>NUM</th>\n",
       "      <th>VERB</th>\n",
       "      <th>DET</th>\n",
       "      <th>ADP</th>\n",
       "    </tr>\n",
       "  </thead>\n",
       "  <tbody>\n",
       "    <tr>\n",
       "      <th>PRON</th>\n",
       "      <td>0.007862</td>\n",
       "      <td>0.012579</td>\n",
       "      <td>0.003669</td>\n",
       "      <td>0.069706</td>\n",
       "      <td>0.204403</td>\n",
       "      <td>0.097484</td>\n",
       "      <td>0.040356</td>\n",
       "      <td>0.033543</td>\n",
       "      <td>0.007862</td>\n",
       "      <td>0.495807</td>\n",
       "      <td>0.009434</td>\n",
       "      <td>0.017296</td>\n",
       "    </tr>\n",
       "    <tr>\n",
       "      <th>PRT</th>\n",
       "      <td>0.020252</td>\n",
       "      <td>0.002700</td>\n",
       "      <td>0.001800</td>\n",
       "      <td>0.084608</td>\n",
       "      <td>0.241674</td>\n",
       "      <td>0.010351</td>\n",
       "      <td>0.045005</td>\n",
       "      <td>0.009901</td>\n",
       "      <td>0.056256</td>\n",
       "      <td>0.405941</td>\n",
       "      <td>0.100360</td>\n",
       "      <td>0.021152</td>\n",
       "    </tr>\n",
       "    <tr>\n",
       "      <th>CONJ</th>\n",
       "      <td>0.062147</td>\n",
       "      <td>0.005022</td>\n",
       "      <td>0.000000</td>\n",
       "      <td>0.117389</td>\n",
       "      <td>0.354049</td>\n",
       "      <td>0.007533</td>\n",
       "      <td>0.035154</td>\n",
       "      <td>0.050847</td>\n",
       "      <td>0.045825</td>\n",
       "      <td>0.150031</td>\n",
       "      <td>0.119900</td>\n",
       "      <td>0.052103</td>\n",
       "    </tr>\n",
       "    <tr>\n",
       "      <th>ADJ</th>\n",
       "      <td>0.000671</td>\n",
       "      <td>0.010295</td>\n",
       "      <td>0.017010</td>\n",
       "      <td>0.066473</td>\n",
       "      <td>0.696509</td>\n",
       "      <td>0.020815</td>\n",
       "      <td>0.065130</td>\n",
       "      <td>0.004252</td>\n",
       "      <td>0.022829</td>\n",
       "      <td>0.013205</td>\n",
       "      <td>0.006267</td>\n",
       "      <td>0.076544</td>\n",
       "    </tr>\n",
       "    <tr>\n",
       "      <th>NOUN</th>\n",
       "      <td>0.004869</td>\n",
       "      <td>0.042923</td>\n",
       "      <td>0.041830</td>\n",
       "      <td>0.012072</td>\n",
       "      <td>0.263351</td>\n",
       "      <td>0.029112</td>\n",
       "      <td>0.242685</td>\n",
       "      <td>0.016295</td>\n",
       "      <td>0.008793</td>\n",
       "      <td>0.147648</td>\n",
       "      <td>0.013513</td>\n",
       "      <td>0.176909</td>\n",
       "    </tr>\n",
       "    <tr>\n",
       "      <th>X</th>\n",
       "      <td>0.052211</td>\n",
       "      <td>0.184682</td>\n",
       "      <td>0.010140</td>\n",
       "      <td>0.016828</td>\n",
       "      <td>0.063862</td>\n",
       "      <td>0.074865</td>\n",
       "      <td>0.167422</td>\n",
       "      <td>0.025243</td>\n",
       "      <td>0.002373</td>\n",
       "      <td>0.204746</td>\n",
       "      <td>0.053506</td>\n",
       "      <td>0.144121</td>\n",
       "    </tr>\n",
       "    <tr>\n",
       "      <th>.</th>\n",
       "      <td>0.065983</td>\n",
       "      <td>0.002051</td>\n",
       "      <td>0.060917</td>\n",
       "      <td>0.042943</td>\n",
       "      <td>0.217129</td>\n",
       "      <td>0.026176</td>\n",
       "      <td>0.096381</td>\n",
       "      <td>0.053197</td>\n",
       "      <td>0.080458</td>\n",
       "      <td>0.086490</td>\n",
       "      <td>0.173583</td>\n",
       "      <td>0.094572</td>\n",
       "    </tr>\n",
       "    <tr>\n",
       "      <th>ADV</th>\n",
       "      <td>0.014021</td>\n",
       "      <td>0.014925</td>\n",
       "      <td>0.006784</td>\n",
       "      <td>0.123926</td>\n",
       "      <td>0.035278</td>\n",
       "      <td>0.020805</td>\n",
       "      <td>0.134328</td>\n",
       "      <td>0.080054</td>\n",
       "      <td>0.030303</td>\n",
       "      <td>0.343736</td>\n",
       "      <td>0.071913</td>\n",
       "      <td>0.123926</td>\n",
       "    </tr>\n",
       "    <tr>\n",
       "      <th>NUM</th>\n",
       "      <td>0.001612</td>\n",
       "      <td>0.025393</td>\n",
       "      <td>0.014510</td>\n",
       "      <td>0.034260</td>\n",
       "      <td>0.351471</td>\n",
       "      <td>0.213624</td>\n",
       "      <td>0.112052</td>\n",
       "      <td>0.003628</td>\n",
       "      <td>0.187424</td>\n",
       "      <td>0.017332</td>\n",
       "      <td>0.002821</td>\n",
       "      <td>0.035873</td>\n",
       "    </tr>\n",
       "    <tr>\n",
       "      <th>VERB</th>\n",
       "      <td>0.033491</td>\n",
       "      <td>0.030761</td>\n",
       "      <td>0.005564</td>\n",
       "      <td>0.064777</td>\n",
       "      <td>0.108766</td>\n",
       "      <td>0.216588</td>\n",
       "      <td>0.037165</td>\n",
       "      <td>0.081680</td>\n",
       "      <td>0.023097</td>\n",
       "      <td>0.170919</td>\n",
       "      <td>0.136273</td>\n",
       "      <td>0.090919</td>\n",
       "    </tr>\n",
       "    <tr>\n",
       "      <th>DET</th>\n",
       "      <td>0.003705</td>\n",
       "      <td>0.000322</td>\n",
       "      <td>0.000483</td>\n",
       "      <td>0.207313</td>\n",
       "      <td>0.636920</td>\n",
       "      <td>0.044620</td>\n",
       "      <td>0.017397</td>\n",
       "      <td>0.012403</td>\n",
       "      <td>0.020941</td>\n",
       "      <td>0.041237</td>\n",
       "      <td>0.005477</td>\n",
       "      <td>0.009182</td>\n",
       "    </tr>\n",
       "    <tr>\n",
       "      <th>ADP</th>\n",
       "      <td>0.069603</td>\n",
       "      <td>0.001444</td>\n",
       "      <td>0.000722</td>\n",
       "      <td>0.104260</td>\n",
       "      <td>0.316101</td>\n",
       "      <td>0.036823</td>\n",
       "      <td>0.038845</td>\n",
       "      <td>0.014152</td>\n",
       "      <td>0.061949</td>\n",
       "      <td>0.007798</td>\n",
       "      <td>0.330830</td>\n",
       "      <td>0.017473</td>\n",
       "    </tr>\n",
       "  </tbody>\n",
       "</table>\n",
       "</div>"
      ],
      "text/plain": [
       "          PRON       PRT      CONJ       ADJ      NOUN         X         .  \\\n",
       "PRON  0.007862  0.012579  0.003669  0.069706  0.204403  0.097484  0.040356   \n",
       "PRT   0.020252  0.002700  0.001800  0.084608  0.241674  0.010351  0.045005   \n",
       "CONJ  0.062147  0.005022  0.000000  0.117389  0.354049  0.007533  0.035154   \n",
       "ADJ   0.000671  0.010295  0.017010  0.066473  0.696509  0.020815  0.065130   \n",
       "NOUN  0.004869  0.042923  0.041830  0.012072  0.263351  0.029112  0.242685   \n",
       "X     0.052211  0.184682  0.010140  0.016828  0.063862  0.074865  0.167422   \n",
       ".     0.065983  0.002051  0.060917  0.042943  0.217129  0.026176  0.096381   \n",
       "ADV   0.014021  0.014925  0.006784  0.123926  0.035278  0.020805  0.134328   \n",
       "NUM   0.001612  0.025393  0.014510  0.034260  0.351471  0.213624  0.112052   \n",
       "VERB  0.033491  0.030761  0.005564  0.064777  0.108766  0.216588  0.037165   \n",
       "DET   0.003705  0.000322  0.000483  0.207313  0.636920  0.044620  0.017397   \n",
       "ADP   0.069603  0.001444  0.000722  0.104260  0.316101  0.036823  0.038845   \n",
       "\n",
       "           ADV       NUM      VERB       DET       ADP  \n",
       "PRON  0.033543  0.007862  0.495807  0.009434  0.017296  \n",
       "PRT   0.009901  0.056256  0.405941  0.100360  0.021152  \n",
       "CONJ  0.050847  0.045825  0.150031  0.119900  0.052103  \n",
       "ADJ   0.004252  0.022829  0.013205  0.006267  0.076544  \n",
       "NOUN  0.016295  0.008793  0.147648  0.013513  0.176909  \n",
       "X     0.025243  0.002373  0.204746  0.053506  0.144121  \n",
       ".     0.053197  0.080458  0.086490  0.173583  0.094572  \n",
       "ADV   0.080054  0.030303  0.343736  0.071913  0.123926  \n",
       "NUM   0.003628  0.187424  0.017332  0.002821  0.035873  \n",
       "VERB  0.081680  0.023097  0.170919  0.136273  0.090919  \n",
       "DET   0.012403  0.020941  0.041237  0.005477  0.009182  \n",
       "ADP   0.014152  0.061949  0.007798  0.330830  0.017473  "
      ]
     },
     "execution_count": 24,
     "metadata": {},
     "output_type": "execute_result"
    }
   ],
   "source": [
    "tags_df"
   ]
  },
  {
   "cell_type": "code",
   "execution_count": 25,
   "metadata": {},
   "outputs": [
    {
     "data": {
      "text/plain": [
       "PRON    0.065983\n",
       "PRT     0.002051\n",
       "CONJ    0.060917\n",
       "ADJ     0.042943\n",
       "NOUN    0.217129\n",
       "X       0.026176\n",
       ".       0.096381\n",
       "ADV     0.053197\n",
       "NUM     0.080458\n",
       "VERB    0.086490\n",
       "DET     0.173583\n",
       "ADP     0.094572\n",
       "Name: ., dtype: float32"
      ]
     },
     "execution_count": 25,
     "metadata": {},
     "output_type": "execute_result"
    }
   ],
   "source": [
    "tags_df.loc['.', :]"
   ]
  },
  {
   "cell_type": "code",
   "execution_count": 26,
   "metadata": {},
   "outputs": [],
   "source": [
    "import matplotlib.pyplot as plt\n",
    "import seaborn as sns"
   ]
  },
  {
   "cell_type": "code",
   "execution_count": 27,
   "metadata": {},
   "outputs": [
    {
     "data": {
      "image/png": "[encoded data removed]",
      "text/plain": [
       "<Figure size 1296x864 with 2 Axes>"
      ]
     },
     "metadata": {
      "needs_background": "light"
     },
     "output_type": "display_data"
    }
   ],
   "source": [
    "# heatmap of tags matrix\n",
    "# T(i, j) means P(tag j given tag i)\n",
    "plt.figure(figsize=(18, 12))\n",
    "sns.heatmap(tags_df)\n",
    "plt.show()"
   ]
  },
  {
   "cell_type": "code",
   "execution_count": 28,
   "metadata": {},
   "outputs": [
    {
     "data": {
      "image/png": "[encoded data removed]",
      "text/plain": [
       "<Figure size 1296x864 with 2 Axes>"
      ]
     },
     "metadata": {
      "needs_background": "light"
     },
     "output_type": "display_data"
    }
   ],
   "source": [
    "# frequent tags\n",
    "# filter the df to get P(t2, t1) > 0.5\n",
    "tags_frequent = tags_df[tags_df>0.5]\n",
    "plt.figure(figsize=(18, 12))\n",
    "sns.heatmap(tags_frequent)\n",
    "plt.show()"
   ]
  },
  {
   "cell_type": "markdown",
   "metadata": {},
   "source": [
    "## 3. Viterbi Algorithm\n",
    "\n",
    "Let's now use the computed probabilities P(w, tag) and P(t2, t1) to assign tags to each word in the document. We'll run through each word w and compute P(tag/w)=P(w/tag).P(tag) for each tag in the tag set, and then assign the tag having the max P(tag/w).\n",
    "\n",
    "We'll store the assigned tags in a list of tuples, similar to the list 'train_tagged_words'. Each tuple will be a (token, assigned_tag). As we progress further in the list, each tag to be assigned will use the tag of the previous token.\n",
    "\n",
    "Note: P(tag|start) = P(tag|'.') "
   ]
  },
  {
   "cell_type": "code",
   "execution_count": 29,
   "metadata": {},
   "outputs": [
    {
     "data": {
      "text/plain": [
       "70595"
      ]
     },
     "execution_count": 29,
     "metadata": {},
     "output_type": "execute_result"
    }
   ],
   "source": [
    "len(train_tagged_words)"
   ]
  },
  {
   "cell_type": "code",
   "execution_count": 30,
   "metadata": {},
   "outputs": [],
   "source": [
    "# Vanilla Viterbi Heuristic\n",
    "def Viterbi(words, train_bag = train_tagged_words):\n",
    "    state = []\n",
    "    T = list(set([pair[1] for pair in train_bag]))\n",
    "    \n",
    "    for key, word in enumerate(words):\n",
    "        #initialise list of probability column for a given observation\n",
    "        p = [] \n",
    "        for tag in T:\n",
    "            if key == 0:\n",
    "                transition_p = tags_df.loc['.', tag]\n",
    "            else:\n",
    "                transition_p = tags_df.loc[state[-1], tag]\n",
    "                \n",
    "            # compute emission and state probabilities\n",
    "            emission_p = word_given_tag(words[key], tag)[0]/word_given_tag(words[key], tag)[1]\n",
    "            state_probability = emission_p * transition_p    \n",
    "            p.append(state_probability)\n",
    "            \n",
    "        pmax = max(p)\n",
    "        # getting state for which probability is maximum\n",
    "        state_max = T[p.index(pmax)] \n",
    "        state.append(state_max)\n",
    "    return list(zip(words, state))"
   ]
  },
  {
   "cell_type": "markdown",
   "metadata": {},
   "source": [
    "### Evaluating on test set "
   ]
  },
  {
   "cell_type": "code",
   "execution_count": 31,
   "metadata": {},
   "outputs": [
    {
     "data": {
      "text/plain": [
       "[[('The', 'DET'),\n",
       "  ('latest', 'ADJ'),\n",
       "  ('results', 'NOUN'),\n",
       "  ('include', 'VERB'),\n",
       "  ('some', 'DET'),\n",
       "  ('unusual', 'ADJ'),\n",
       "  ('write-downs', 'NOUN'),\n",
       "  (',', '.'),\n",
       "  ('which', 'DET'),\n",
       "  ('*T*-1', 'X'),\n",
       "  ('had', 'VERB'),\n",
       "  ('an', 'DET'),\n",
       "  ('after-tax', 'ADJ'),\n",
       "  ('impact', 'NOUN'),\n",
       "  ('of', 'ADP'),\n",
       "  ('$', '.'),\n",
       "  ('4.9', 'NUM'),\n",
       "  ('million', 'NUM'),\n",
       "  ('*U*', 'X'),\n",
       "  ('.', '.')],\n",
       " [('A', 'DET'),\n",
       "  ('year', 'NOUN'),\n",
       "  ('earlier', 'ADV'),\n",
       "  (',', '.'),\n",
       "  ('it', 'PRON'),\n",
       "  ('had', 'VERB'),\n",
       "  ('profit', 'NOUN'),\n",
       "  ('of', 'ADP'),\n",
       "  ('$', '.'),\n",
       "  ('7.5', 'NUM'),\n",
       "  ('million', 'NUM'),\n",
       "  ('*U*', 'X'),\n",
       "  (',', '.'),\n",
       "  ('or', 'CONJ'),\n",
       "  ('18', 'NUM'),\n",
       "  ('cents', 'NOUN'),\n",
       "  ('a', 'DET'),\n",
       "  ('share', 'NOUN'),\n",
       "  ('.', '.')],\n",
       " [('ASLACTON', 'NOUN'), (',', '.'), ('England', 'NOUN')],\n",
       " [('A', 'DET'),\n",
       "  ('majority', 'NOUN'),\n",
       "  ('of', 'ADP'),\n",
       "  ('an', 'DET'),\n",
       "  ('NIH-appointed', 'ADJ'),\n",
       "  ('panel', 'NOUN'),\n",
       "  ('recommended', 'VERB'),\n",
       "  ('late', 'ADV'),\n",
       "  ('last', 'ADJ'),\n",
       "  ('year', 'NOUN'),\n",
       "  ('that', 'ADP'),\n",
       "  ('the', 'DET'),\n",
       "  ('research', 'NOUN'),\n",
       "  ('continue', 'VERB'),\n",
       "  ('under', 'ADP'),\n",
       "  ('carefully', 'ADV'),\n",
       "  ('controlled', 'ADJ'),\n",
       "  ('conditions', 'NOUN'),\n",
       "  (',', '.'),\n",
       "  ('but', 'CONJ'),\n",
       "  ('the', 'DET'),\n",
       "  ('issue', 'NOUN'),\n",
       "  ('became', 'VERB'),\n",
       "  ('embroiled', 'VERB'),\n",
       "  ('*-2', 'X'),\n",
       "  ('in', 'ADP'),\n",
       "  ('politics', 'NOUN'),\n",
       "  ('as', 'ADP'),\n",
       "  ('anti-abortion', 'ADJ'),\n",
       "  ('groups', 'NOUN'),\n",
       "  ('continued', 'VERB'),\n",
       "  ('*-3', 'X'),\n",
       "  ('to', 'PRT'),\n",
       "  ('oppose', 'VERB'),\n",
       "  ('federal', 'ADJ'),\n",
       "  ('funding', 'NOUN'),\n",
       "  ('.', '.')],\n",
       " [('The', 'DET'),\n",
       "  ('Big', 'NOUN'),\n",
       "  ('Board', 'NOUN'),\n",
       "  (\"'s\", 'PRT'),\n",
       "  ('uptick', 'NOUN'),\n",
       "  ('rule', 'NOUN'),\n",
       "  ('prevents', 'VERB'),\n",
       "  ('the', 'DET'),\n",
       "  ('short', 'ADJ'),\n",
       "  ('sale', 'NOUN'),\n",
       "  ('of', 'ADP'),\n",
       "  ('a', 'DET'),\n",
       "  ('stock', 'NOUN'),\n",
       "  ('when', 'ADV'),\n",
       "  ('the', 'DET'),\n",
       "  ('stock', 'NOUN'),\n",
       "  ('is', 'VERB'),\n",
       "  ('falling', 'VERB'),\n",
       "  ('in', 'ADP'),\n",
       "  ('price', 'NOUN'),\n",
       "  ('*T*-1', 'X'),\n",
       "  ('.', '.')]]"
      ]
     },
     "execution_count": 31,
     "metadata": {},
     "output_type": "execute_result"
    }
   ],
   "source": [
    "# Running on entire test dataset would take more than 3-4hrs. \n",
    "# Let's test our Viterbi algorithm on a few sample sentences of test dataset\n",
    "\n",
    "random.seed(1234)\n",
    "\n",
    "# choose random 5 sents\n",
    "rndom = [random.randint(1,len(test_set)) for x in range(5)]\n",
    "\n",
    "# list of sents\n",
    "test_run = [test_set[i] for i in rndom]\n",
    "\n",
    "# list of tagged words\n",
    "test_run_base = [tup for sent in test_run for tup in sent]\n",
    "\n",
    "# list of untagged words\n",
    "test_tagged_words = [tup[0] for sent in test_run for tup in sent]\n",
    "test_run"
   ]
  },
  {
   "cell_type": "code",
   "execution_count": 32,
   "metadata": {},
   "outputs": [],
   "source": [
    "# tagging the test sentences\n",
    "start = time.time()\n",
    "tagged_seq = Viterbi(test_tagged_words)\n",
    "end = time.time()\n",
    "difference = end-start"
   ]
  },
  {
   "cell_type": "code",
   "execution_count": 33,
   "metadata": {},
   "outputs": [
    {
     "name": "stdout",
     "output_type": "stream",
     "text": [
      "Time taken in seconds:  26.319824695587158\n",
      "[('The', 'DET'), ('latest', 'ADJ'), ('results', 'NOUN'), ('include', 'VERB'), ('some', 'DET'), ('unusual', 'ADJ'), ('write-downs', 'PRON'), (',', '.'), ('which', 'DET'), ('*T*-1', 'X'), ('had', 'VERB'), ('an', 'DET'), ('after-tax', 'ADJ'), ('impact', 'NOUN'), ('of', 'ADP'), ('$', '.'), ('4.9', 'PRON'), ('million', 'NUM'), ('*U*', 'X'), ('.', '.'), ('A', 'DET'), ('year', 'NOUN'), ('earlier', 'ADJ'), (',', '.'), ('it', 'PRON'), ('had', 'VERB'), ('profit', 'NOUN'), ('of', 'ADP'), ('$', '.'), ('7.5', 'NUM'), ('million', 'NUM'), ('*U*', 'X'), (',', '.'), ('or', 'CONJ'), ('18', 'NUM'), ('cents', 'NOUN'), ('a', 'DET'), ('share', 'NOUN'), ('.', '.'), ('ASLACTON', 'PRON'), (',', '.'), ('England', 'NOUN'), ('A', 'DET'), ('majority', 'NOUN'), ('of', 'ADP'), ('an', 'DET'), ('NIH-appointed', 'PRON'), ('panel', 'NOUN'), ('recommended', 'PRON'), ('late', 'ADJ'), ('last', 'ADJ'), ('year', 'NOUN'), ('that', 'ADP'), ('the', 'DET'), ('research', 'NOUN'), ('continue', 'VERB'), ('under', 'ADP'), ('carefully', 'PRON'), ('controlled', 'VERB'), ('conditions', 'NOUN'), (',', '.'), ('but', 'CONJ'), ('the', 'DET'), ('issue', 'NOUN'), ('became', 'VERB'), ('embroiled', 'PRON'), ('*-2', 'X'), ('in', 'ADP'), ('politics', 'NOUN'), ('as', 'ADP'), ('anti-abortion', 'PRON'), ('groups', 'NOUN'), ('continued', 'VERB'), ('*-3', 'X'), ('to', 'PRT'), ('oppose', 'VERB'), ('federal', 'ADJ'), ('funding', 'NOUN'), ('.', '.'), ('The', 'DET'), ('Big', 'NOUN'), ('Board', 'NOUN'), (\"'s\", 'PRT'), ('uptick', 'VERB'), ('rule', 'NOUN'), ('prevents', 'VERB'), ('the', 'DET'), ('short', 'ADJ'), ('sale', 'NOUN'), ('of', 'ADP'), ('a', 'DET'), ('stock', 'NOUN'), ('when', 'ADV'), ('the', 'DET'), ('stock', 'NOUN'), ('is', 'VERB'), ('falling', 'VERB'), ('in', 'ADP'), ('price', 'NOUN'), ('*T*-1', 'X'), ('.', '.')]\n"
     ]
    }
   ],
   "source": [
    "print(\"Time taken in seconds: \", difference)\n",
    "print(tagged_seq)\n",
    "#print(test_run_base)"
   ]
  },
  {
   "cell_type": "code",
   "execution_count": 34,
   "metadata": {},
   "outputs": [],
   "source": [
    "# accuracy\n",
    "check = [i for i, j in zip(tagged_seq, test_run_base) if i == j] "
   ]
  },
  {
   "cell_type": "code",
   "execution_count": 35,
   "metadata": {},
   "outputs": [],
   "source": [
    "accuracy = len(check)/len(tagged_seq)"
   ]
  },
  {
   "cell_type": "code",
   "execution_count": 40,
   "metadata": {},
   "outputs": [
    {
     "data": {
      "text/plain": [
       "0.8811881188118812"
      ]
     },
     "execution_count": 40,
     "metadata": {},
     "output_type": "execute_result"
    }
   ],
   "source": [
    "accuracy"
   ]
  },
  {
   "cell_type": "code",
   "execution_count": 37,
   "metadata": {},
   "outputs": [],
   "source": [
    "incorrect_tagged_cases = [[test_run_base[i-1],j] for i, j in enumerate(zip(tagged_seq, test_run_base)) if j[0]!=j[1]]"
   ]
  },
  {
   "cell_type": "code",
   "execution_count": 38,
   "metadata": {},
   "outputs": [
    {
     "data": {
      "text/plain": [
       "[[('unusual', 'ADJ'), (('write-downs', 'PRON'), ('write-downs', 'NOUN'))],\n",
       " [('$', '.'), (('4.9', 'PRON'), ('4.9', 'NUM'))],\n",
       " [('year', 'NOUN'), (('earlier', 'ADJ'), ('earlier', 'ADV'))],\n",
       " [('.', '.'), (('ASLACTON', 'PRON'), ('ASLACTON', 'NOUN'))],\n",
       " [('an', 'DET'), (('NIH-appointed', 'PRON'), ('NIH-appointed', 'ADJ'))],\n",
       " [('panel', 'NOUN'), (('recommended', 'PRON'), ('recommended', 'VERB'))],\n",
       " [('recommended', 'VERB'), (('late', 'ADJ'), ('late', 'ADV'))],\n",
       " [('under', 'ADP'), (('carefully', 'PRON'), ('carefully', 'ADV'))],\n",
       " [('carefully', 'ADV'), (('controlled', 'VERB'), ('controlled', 'ADJ'))],\n",
       " [('became', 'VERB'), (('embroiled', 'PRON'), ('embroiled', 'VERB'))],\n",
       " [('as', 'ADP'), (('anti-abortion', 'PRON'), ('anti-abortion', 'ADJ'))],\n",
       " [(\"'s\", 'PRT'), (('uptick', 'VERB'), ('uptick', 'NOUN'))]]"
      ]
     },
     "execution_count": 38,
     "metadata": {},
     "output_type": "execute_result"
    }
   ],
   "source": [
    "incorrect_tagged_cases"
   ]
  },
  {
   "cell_type": "markdown",
   "metadata": {},
   "source": [
    "### Solve the problem of unknown words"
   ]
  },
  {
   "cell_type": "code",
   "execution_count": 39,
   "metadata": {},
   "outputs": [],
   "source": [
    "#As we can see few words are tagged incorrectly"
   ]
  },
  {
   "cell_type": "markdown",
   "metadata": {},
   "source": [
    "### Viterbi Modification"
   ]
  },
  {
   "cell_type": "code",
   "execution_count": 42,
   "metadata": {},
   "outputs": [],
   "source": [
    "# we will specify patterns for tagging\n",
    "\n",
    "patterns = [\n",
    "    (r'.*ing$', 'VERB'),\n",
    "    (r'.*ed$', 'VERB'),\n",
    "    (r'.*es$', 'NOUN'),\n",
    "    (r'.*s$', 'NOUN'),\n",
    "    (r'\\*T?\\*?-[0-9]+$', 'X'),\n",
    "    (r'^-?[0-9]+(.[0-9]+)$','NUM'),\n",
    "    (r'.*','NOUN')\n",
    "    \n",
    "]\n",
    "#rule based tags\n",
    "rule_based_tag = nltk.RegexpTagger(patterns)"
   ]
  },
  {
   "cell_type": "code",
   "execution_count": 46,
   "metadata": {},
   "outputs": [],
   "source": [
    "# Vanilla Viterbi 2 Heuristic\n",
    "def Viterbi_2(words, train_bag = train_tagged_words):\n",
    "    state = []\n",
    "    T = list(set([pair[1] for pair in train_bag]))\n",
    "    \n",
    "    for key, word in enumerate(words):\n",
    "        #initialise list of probability column for a given observation\n",
    "        p = [] \n",
    "        for tag in T:\n",
    "            if key == 0:\n",
    "                transition_p = tags_df.loc['.', tag]\n",
    "            else:\n",
    "                transition_p = tags_df.loc[state[-1], tag]\n",
    "                \n",
    "            # compute emission and state probabilities\n",
    "            emission_p = word_given_tag(words[key], tag)[0]/word_given_tag(words[key], tag)[1]\n",
    "            state_probability = emission_p * transition_p    \n",
    "            p.append(state_probability)\n",
    "            \n",
    "        pmax = max(p)\n",
    "        # getting state for which probability is maximum\n",
    "        state_max = rule_based_tag.tag([word])[0][1]\n",
    "        \n",
    "        \n",
    "        if(pmax==0):\n",
    "            state_max = rule_based_tag.tag([word])[0][1]\n",
    "        else:\n",
    "            if state_max != 'X':\n",
    "                state_max = T[p.index(pmax)]\n",
    "        state.append(state_max)\n",
    "    return list(zip(words, state))"
   ]
  },
  {
   "cell_type": "code",
   "execution_count": 47,
   "metadata": {},
   "outputs": [],
   "source": [
    "# tagging the test sentences\n",
    "start = time.time()\n",
    "tagged_seq = Viterbi_2(test_tagged_words)\n",
    "end = time.time()\n",
    "difference = end-start"
   ]
  },
  {
   "cell_type": "code",
   "execution_count": 48,
   "metadata": {},
   "outputs": [
    {
     "name": "stdout",
     "output_type": "stream",
     "text": [
      "Time taken in seconds:  16.62334156036377\n",
      "[('The', 'DET'), ('latest', 'ADJ'), ('results', 'NOUN'), ('include', 'VERB'), ('some', 'DET'), ('unusual', 'ADJ'), ('write-downs', 'NOUN'), (',', '.'), ('which', 'DET'), ('*T*-1', 'X'), ('had', 'VERB'), ('an', 'DET'), ('after-tax', 'ADJ'), ('impact', 'NOUN'), ('of', 'ADP'), ('$', '.'), ('4.9', 'NUM'), ('million', 'NUM'), ('*U*', 'X'), ('.', '.'), ('A', 'DET'), ('year', 'NOUN'), ('earlier', 'ADJ'), (',', '.'), ('it', 'PRON'), ('had', 'VERB'), ('profit', 'NOUN'), ('of', 'ADP'), ('$', '.'), ('7.5', 'NUM'), ('million', 'NUM'), ('*U*', 'X'), (',', '.'), ('or', 'CONJ'), ('18', 'NUM'), ('cents', 'NOUN'), ('a', 'DET'), ('share', 'NOUN'), ('.', '.'), ('ASLACTON', 'NOUN'), (',', '.'), ('England', 'NOUN'), ('A', 'DET'), ('majority', 'NOUN'), ('of', 'ADP'), ('an', 'DET'), ('NIH-appointed', 'VERB'), ('panel', 'NOUN'), ('recommended', 'VERB'), ('late', 'ADJ'), ('last', 'ADJ'), ('year', 'NOUN'), ('that', 'ADP'), ('the', 'DET'), ('research', 'NOUN'), ('continue', 'VERB'), ('under', 'ADP'), ('carefully', 'NOUN'), ('controlled', 'VERB'), ('conditions', 'NOUN'), (',', '.'), ('but', 'CONJ'), ('the', 'DET'), ('issue', 'NOUN'), ('became', 'VERB'), ('embroiled', 'VERB'), ('*-2', 'X'), ('in', 'ADP'), ('politics', 'NOUN'), ('as', 'ADP'), ('anti-abortion', 'NOUN'), ('groups', 'NOUN'), ('continued', 'VERB'), ('*-3', 'X'), ('to', 'PRT'), ('oppose', 'VERB'), ('federal', 'ADJ'), ('funding', 'NOUN'), ('.', '.'), ('The', 'DET'), ('Big', 'NOUN'), ('Board', 'NOUN'), (\"'s\", 'PRT'), ('uptick', 'VERB'), ('rule', 'NOUN'), ('prevents', 'VERB'), ('the', 'DET'), ('short', 'ADJ'), ('sale', 'NOUN'), ('of', 'ADP'), ('a', 'DET'), ('stock', 'NOUN'), ('when', 'ADV'), ('the', 'DET'), ('stock', 'NOUN'), ('is', 'VERB'), ('falling', 'VERB'), ('in', 'ADP'), ('price', 'NOUN'), ('*T*-1', 'X'), ('.', '.')]\n"
     ]
    }
   ],
   "source": [
    "print(\"Time taken in seconds: \", difference)\n",
    "print(tagged_seq)"
   ]
  },
  {
   "cell_type": "markdown",
   "metadata": {},
   "source": [
    "#### Evaluating tagging accuracy"
   ]
  },
  {
   "cell_type": "code",
   "execution_count": 49,
   "metadata": {},
   "outputs": [],
   "source": [
    "# accuracy\n",
    "check = [i for i, j in zip(tagged_seq, test_run_base) if i == j] \n",
    "accuracy = len(check)/len(tagged_seq)"
   ]
  },
  {
   "cell_type": "code",
   "execution_count": 50,
   "metadata": {},
   "outputs": [
    {
     "data": {
      "text/plain": [
       "0.9306930693069307"
      ]
     },
     "execution_count": 50,
     "metadata": {},
     "output_type": "execute_result"
    }
   ],
   "source": [
    "accuracy"
   ]
  },
  {
   "cell_type": "code",
   "execution_count": 51,
   "metadata": {},
   "outputs": [],
   "source": [
    "incorrect_tagged_cases = [[test_run_base[i-1],j] for i, j in enumerate(zip(tagged_seq, test_run_base)) if j[0]!=j[1]]"
   ]
  },
  {
   "cell_type": "code",
   "execution_count": 52,
   "metadata": {},
   "outputs": [
    {
     "data": {
      "text/plain": [
       "[[('year', 'NOUN'), (('earlier', 'ADJ'), ('earlier', 'ADV'))],\n",
       " [('an', 'DET'), (('NIH-appointed', 'VERB'), ('NIH-appointed', 'ADJ'))],\n",
       " [('recommended', 'VERB'), (('late', 'ADJ'), ('late', 'ADV'))],\n",
       " [('under', 'ADP'), (('carefully', 'NOUN'), ('carefully', 'ADV'))],\n",
       " [('carefully', 'ADV'), (('controlled', 'VERB'), ('controlled', 'ADJ'))],\n",
       " [('as', 'ADP'), (('anti-abortion', 'NOUN'), ('anti-abortion', 'ADJ'))],\n",
       " [(\"'s\", 'PRT'), (('uptick', 'VERB'), ('uptick', 'NOUN'))]]"
      ]
     },
     "execution_count": 52,
     "metadata": {},
     "output_type": "execute_result"
    }
   ],
   "source": [
    "incorrect_tagged_cases"
   ]
  },
  {
   "cell_type": "markdown",
   "metadata": {},
   "source": [
    "### Compare the tagging accuracies of the modifications with the vanilla Viterbi algorithm"
   ]
  },
  {
   "cell_type": "code",
   "execution_count": 53,
   "metadata": {},
   "outputs": [],
   "source": [
    "#Viterbi_2 which is the first modification has an accuracy of 93% and viterbi approach has accuracy 88%"
   ]
  },
  {
   "cell_type": "markdown",
   "metadata": {},
   "source": [
    "### Viterbi_3 approach 2"
   ]
  },
  {
   "cell_type": "code",
   "execution_count": 59,
   "metadata": {},
   "outputs": [],
   "source": [
    "# Vanilla Viterbi 3 2nd approach where we are tagging unknown words using transition probability\n",
    "def Viterbi_3(words, train_bag = train_tagged_words):\n",
    "    state = []\n",
    "    T = list(set([pair[1] for pair in train_bag]))\n",
    "    \n",
    "    for key, word in enumerate(words):\n",
    "        #initialise list of probability column for a given observation\n",
    "        p = [] \n",
    "        p_trans = []\n",
    "        for tag in T:\n",
    "            if key == 0:\n",
    "                transition_p = tags_df.loc['.', tag]\n",
    "            else:\n",
    "                transition_p = tags_df.loc[state[-1], tag]\n",
    "                \n",
    "            # compute emission and state probabilities\n",
    "            emission_p = word_given_tag(words[key], tag)[0]/word_given_tag(words[key], tag)[1]\n",
    "            state_probability = emission_p * transition_p    \n",
    "            p.append(state_probability)\n",
    "            p_trans.append(transition_p)\n",
    "            \n",
    "        pmax = max(p)\n",
    "        # getting state for which probability is maximum\n",
    "        state_max = T[p.index(pmax)] \n",
    "        \n",
    "        if (pmax == 0):\n",
    "            pmax = max(p_trans)\n",
    "            state_max = T[p_trans.index(pmax)]\n",
    "        else:\n",
    "            state_max = T[p.index(pmax)]\n",
    "            \n",
    "            \n",
    "        state.append(state_max)\n",
    "    return list(zip(words, state))"
   ]
  },
  {
   "cell_type": "code",
   "execution_count": 60,
   "metadata": {},
   "outputs": [
    {
     "name": "stdout",
     "output_type": "stream",
     "text": [
      "Time taken in seconds:  18.74800181388855\n"
     ]
    }
   ],
   "source": [
    "# tagging the test sentences\n",
    "start = time.time()\n",
    "tagged_seq = Viterbi_3(test_tagged_words)\n",
    "end = time.time()\n",
    "difference = end-start\n",
    "print(\"Time taken in seconds: \", difference)\n"
   ]
  },
  {
   "cell_type": "code",
   "execution_count": 61,
   "metadata": {},
   "outputs": [
    {
     "data": {
      "text/plain": [
       "0.900990099009901"
      ]
     },
     "execution_count": 61,
     "metadata": {},
     "output_type": "execute_result"
    }
   ],
   "source": [
    "# accuracy\n",
    "check = [i for i, j in zip(tagged_seq, test_run_base) if i == j] \n",
    "accuracy = len(check)/len(tagged_seq)\n",
    "accuracy"
   ]
  },
  {
   "cell_type": "code",
   "execution_count": 62,
   "metadata": {},
   "outputs": [
    {
     "data": {
      "text/plain": [
       "[[('$', '.'), (('4.9', 'NOUN'), ('4.9', 'NUM'))],\n",
       " [('year', 'NOUN'), (('earlier', 'ADJ'), ('earlier', 'ADV'))],\n",
       " [('an', 'DET'), (('NIH-appointed', 'NOUN'), ('NIH-appointed', 'ADJ'))],\n",
       " [('panel', 'NOUN'), (('recommended', 'NOUN'), ('recommended', 'VERB'))],\n",
       " [('recommended', 'VERB'), (('late', 'ADJ'), ('late', 'ADV'))],\n",
       " [('under', 'ADP'), (('carefully', 'DET'), ('carefully', 'ADV'))],\n",
       " [('carefully', 'ADV'), (('controlled', 'VERB'), ('controlled', 'ADJ'))],\n",
       " [('became', 'VERB'), (('embroiled', 'X'), ('embroiled', 'VERB'))],\n",
       " [('as', 'ADP'), (('anti-abortion', 'DET'), ('anti-abortion', 'ADJ'))],\n",
       " [(\"'s\", 'PRT'), (('uptick', 'VERB'), ('uptick', 'NOUN'))]]"
      ]
     },
     "execution_count": 62,
     "metadata": {},
     "output_type": "execute_result"
    }
   ],
   "source": [
    "incorrect_tagged_cases = [[test_run_base[i-1],j] for i, j in enumerate(zip(tagged_seq, test_run_base)) if j[0]!=j[1]]\n",
    "incorrect_tagged_cases"
   ]
  },
  {
   "cell_type": "markdown",
   "metadata": {},
   "source": [
    "### List down cases which were incorrectly tagged by original POS tagger and got corrected by your modifications"
   ]
  },
  {
   "cell_type": "code",
   "execution_count": 64,
   "metadata": {},
   "outputs": [],
   "source": [
    "#Viterbi\n",
    "\n",
    "#[[('unusual', 'ADJ'), (('write-downs', 'PRON'), ('write-downs', 'NOUN'))],\n",
    "# [('$', '.'), (('4.9', 'PRON'), ('4.9', 'NUM'))],\n",
    "# [('year', 'NOUN'), (('earlier', 'ADJ'), ('earlier', 'ADV'))],\n",
    "# [('.', '.'), (('ASLACTON', 'PRON'), ('ASLACTON', 'NOUN'))],\n",
    "# [('an', 'DET'), (('NIH-appointed', 'PRON'), ('NIH-appointed', 'ADJ'))],\n",
    "# [('panel', 'NOUN'), (('recommended', 'PRON'), ('recommended', 'VERB'))],\n",
    "# [('recommended', 'VERB'), (('late', 'ADJ'), ('late', 'ADV'))],\n",
    "# [('under', 'ADP'), (('carefully', 'PRON'), ('carefully', 'ADV'))],\n",
    "# [('carefully', 'ADV'), (('controlled', 'VERB'), ('controlled', 'ADJ'))],\n",
    " #[('became', 'VERB'), (('embroiled', 'PRON'), ('embroiled', 'VERB'))],\n",
    " #[('as', 'ADP'), (('anti-abortion', 'PRON'), ('anti-abortion', 'ADJ'))],\n",
    " #[(\"'s\", 'PRT'), (('uptick', 'VERB'), ('uptick', 'NOUN'))]]"
   ]
  },
  {
   "cell_type": "code",
   "execution_count": 65,
   "metadata": {},
   "outputs": [],
   "source": [
    "#Viterbi_2\n",
    "#[[('year', 'NOUN'), (('earlier', 'ADJ'), ('earlier', 'ADV'))],\n",
    " #[('an', 'DET'), (('NIH-appointed', 'VERB'), ('NIH-appointed', 'ADJ'))],\n",
    " #[('recommended', 'VERB'), (('late', 'ADJ'), ('late', 'ADV'))],\n",
    " #[('under', 'ADP'), (('carefully', 'NOUN'), ('carefully', 'ADV'))],\n",
    " #[('carefully', 'ADV'), (('controlled', 'VERB'), ('controlled', 'ADJ'))],\n",
    " #[('as', 'ADP'), (('anti-abortion', 'NOUN'), ('anti-abortion', 'ADJ'))],\n",
    " #[(\"'s\", 'PRT'), (('uptick', 'VERB'), ('uptick', 'NOUN'))]]"
   ]
  },
  {
   "cell_type": "code",
   "execution_count": 66,
   "metadata": {},
   "outputs": [],
   "source": [
    "#Viterbi_3\n",
    "##[[('$', '.'), (('4.9', 'NOUN'), ('4.9', 'NUM'))],\n",
    " #[('year', 'NOUN'), (('earlier', 'ADJ'), ('earlier', 'ADV'))],\n",
    " #[('an', 'DET'), (('NIH-appointed', 'NOUN'), ('NIH-appointed', 'ADJ'))],\n",
    " ##[('panel', 'NOUN'), (('recommended', 'NOUN'), ('recommended', 'VERB'))],\n",
    " #[('recommended', 'VERB'), (('late', 'ADJ'), ('late', 'ADV'))],\n",
    " #[('under', 'ADP'), (('carefully', 'DET'), ('carefully', 'ADV'))],\n",
    " #[('carefully', 'ADV'), (('controlled', 'VERB'), ('controlled', 'ADJ'))],\n",
    " #[('became', 'VERB'), (('embroiled', 'X'), ('embroiled', 'VERB'))],\n",
    "# [('as', 'ADP'), (('anti-abortion', 'DET'), ('anti-abortion', 'ADJ'))],\n",
    " #[(\"'s\", 'PRT'), (('uptick', 'VERB'), ('uptick', 'NOUN'))]]"
   ]
  },
  {
   "cell_type": "code",
   "execution_count": 63,
   "metadata": {},
   "outputs": [],
   "source": [
    "#words such as \"Unusual\", \"write-downs\",\"num\", etc were missclassified \n",
    "#Also, using viterbi_2 was more beneficial we got the accuracy of 93%\n"
   ]
  },
  {
   "cell_type": "markdown",
   "metadata": {},
   "source": [
    "### Now let us evaluate the Viterbi and the modified viterbi in the test sample data set"
   ]
  },
  {
   "cell_type": "code",
   "execution_count": 69,
   "metadata": {},
   "outputs": [
    {
     "name": "stdout",
     "output_type": "stream",
     "text": [
      "30081\n"
     ]
    }
   ],
   "source": [
    "test_tagged_words = [tup[0] for sent in test_set for tup in sent]\n",
    "\n",
    "\n",
    "print(len(test_tagged_words))"
   ]
  },
  {
   "cell_type": "code",
   "execution_count": 70,
   "metadata": {},
   "outputs": [
    {
     "name": "stdout",
     "output_type": "stream",
     "text": [
      "101\n"
     ]
    }
   ],
   "source": [
    "test_run_base = [tup for sent in test_run for tup in sent]\n",
    "print(len(test_run_base))"
   ]
  },
  {
   "cell_type": "code",
   "execution_count": 71,
   "metadata": {},
   "outputs": [
    {
     "data": {
      "text/plain": [
       "['A', 'spokesman', 'for']"
      ]
     },
     "execution_count": 71,
     "metadata": {},
     "output_type": "execute_result"
    }
   ],
   "source": [
    "test_tagged_words[:3]"
   ]
  },
  {
   "cell_type": "code",
   "execution_count": 75,
   "metadata": {},
   "outputs": [
    {
     "data": {
      "text/plain": [
       "[('The', 'DET'),\n",
       " ('latest', 'ADJ'),\n",
       " ('results', 'NOUN'),\n",
       " ('include', 'VERB'),\n",
       " ('some', 'DET')]"
      ]
     },
     "execution_count": 75,
     "metadata": {},
     "output_type": "execute_result"
    }
   ],
   "source": [
    "test_run_base[:5]"
   ]
  },
  {
   "cell_type": "code",
   "execution_count": 76,
   "metadata": {},
   "outputs": [
    {
     "data": {
      "text/plain": [
       "['Android is a mobile operating system developed by Google.',\n",
       " 'Android has been the best-selling OS worldwide on smartphones since 2011 and on tablets since 2013.']"
      ]
     },
     "execution_count": 76,
     "metadata": {},
     "output_type": "execute_result"
    }
   ],
   "source": [
    "t = open('test_sample.txt')\n",
    "text = t.read()\n",
    "sample_test = text.splitlines()\n",
    "t.close()\n",
    "sample_test[:2]"
   ]
  },
  {
   "cell_type": "code",
   "execution_count": 79,
   "metadata": {},
   "outputs": [],
   "source": [
    "sample_test_words = [word for sent in sample_test for word in sent.split()]"
   ]
  },
  {
   "cell_type": "code",
   "execution_count": 81,
   "metadata": {},
   "outputs": [
    {
     "name": "stdout",
     "output_type": "stream",
     "text": [
      "Time taken in seconds:  52.748701095581055\n"
     ]
    }
   ],
   "source": [
    "start = time.time()\n",
    "tagged_seq = Viterbi_2(sample_test_words)\n",
    "end = time.time()\n",
    "difference = end-start\n",
    "print(\"Time taken in seconds: \", difference)\n"
   ]
  },
  {
   "cell_type": "code",
   "execution_count": 83,
   "metadata": {},
   "outputs": [
    {
     "data": {
      "text/plain": [
       "[('Android', 'NOUN'),\n",
       " ('is', 'VERB'),\n",
       " ('a', 'DET'),\n",
       " ('mobile', 'ADJ'),\n",
       " ('operating', 'NOUN'),\n",
       " ('system', 'NOUN'),\n",
       " ('developed', 'VERB'),\n",
       " ('by', 'ADP'),\n",
       " ('Google.', 'NOUN'),\n",
       " ('Android', 'NOUN'),\n",
       " ('has', 'VERB'),\n",
       " ('been', 'VERB'),\n",
       " ('the', 'DET'),\n",
       " ('best-selling', 'VERB'),\n",
       " ('OS', 'NOUN'),\n",
       " ('worldwide', 'NOUN'),\n",
       " ('on', 'ADP'),\n",
       " ('smartphones', 'NOUN'),\n",
       " ('since', 'ADP'),\n",
       " ('2011', 'NUM'),\n",
       " ('and', 'CONJ'),\n",
       " ('on', 'ADP'),\n",
       " ('tablets', 'NOUN'),\n",
       " ('since', 'ADP'),\n",
       " ('2013.', 'NOUN'),\n",
       " ('Google', 'NOUN'),\n",
       " ('and', 'CONJ'),\n",
       " ('Twitter', 'NOUN'),\n",
       " ('made', 'VERB'),\n",
       " ('a', 'DET'),\n",
       " ('deal', 'NOUN'),\n",
       " ('in', 'ADP'),\n",
       " ('2015', 'NUM'),\n",
       " ('that', 'ADP'),\n",
       " ('gave', 'VERB'),\n",
       " ('Google', 'NOUN'),\n",
       " ('access', 'NOUN'),\n",
       " ('to', 'PRT'),\n",
       " (\"Twitter's\", 'NOUN'),\n",
       " ('firehose.', 'NOUN'),\n",
       " ('Twitter', 'NOUN'),\n",
       " ('is', 'VERB'),\n",
       " ('an', 'DET'),\n",
       " ('online', 'NOUN'),\n",
       " ('news', 'NOUN'),\n",
       " ('and', 'CONJ'),\n",
       " ('social', 'ADJ'),\n",
       " ('networking', 'NOUN'),\n",
       " ('service', 'NOUN'),\n",
       " ('on', 'ADP'),\n",
       " ('which', 'DET'),\n",
       " ('users', 'NOUN'),\n",
       " ('post', 'NOUN'),\n",
       " ('and', 'CONJ'),\n",
       " ('interact', 'NOUN'),\n",
       " ('with', 'ADP'),\n",
       " ('messages', 'NOUN'),\n",
       " ('known', 'VERB'),\n",
       " ('as', 'ADP'),\n",
       " ('tweets.', 'NOUN'),\n",
       " ('Before', 'ADP'),\n",
       " ('entering', 'VERB'),\n",
       " ('politics,', 'NOUN'),\n",
       " ('Donald', 'NOUN'),\n",
       " ('Trump', 'NOUN'),\n",
       " ('was', 'VERB'),\n",
       " ('a', 'DET'),\n",
       " ('domineering', 'VERB'),\n",
       " ('businessman', 'NOUN'),\n",
       " ('and', 'CONJ'),\n",
       " ('a', 'DET'),\n",
       " ('television', 'NOUN'),\n",
       " ('personality.', 'NOUN'),\n",
       " ('The', 'DET'),\n",
       " ('2018', 'NUM'),\n",
       " ('FIFA', 'NOUN'),\n",
       " ('World', 'NOUN'),\n",
       " ('Cup', 'NOUN'),\n",
       " ('is', 'VERB'),\n",
       " ('the', 'DET'),\n",
       " ('21st', 'NOUN'),\n",
       " ('FIFA', 'NOUN'),\n",
       " ('World', 'NOUN'),\n",
       " ('Cup,', 'NOUN'),\n",
       " ('an', 'DET'),\n",
       " ('international', 'ADJ'),\n",
       " ('football', 'NOUN'),\n",
       " ('tournament', 'NOUN'),\n",
       " ('contested', 'VERB'),\n",
       " ('once', 'ADV'),\n",
       " ('every', 'DET'),\n",
       " ('four', 'NUM'),\n",
       " ('years.', 'NOUN'),\n",
       " ('This', 'DET'),\n",
       " ('is', 'VERB'),\n",
       " ('the', 'DET'),\n",
       " ('first', 'ADJ'),\n",
       " ('World', 'NOUN'),\n",
       " ('Cup', 'NOUN'),\n",
       " ('to', 'PRT'),\n",
       " ('be', 'VERB'),\n",
       " ('held', 'VERB'),\n",
       " ('in', 'ADP'),\n",
       " ('Eastern', 'NOUN'),\n",
       " ('Europe', 'NOUN'),\n",
       " ('and', 'CONJ'),\n",
       " ('the', 'DET'),\n",
       " ('11th', 'ADJ'),\n",
       " ('time', 'NOUN'),\n",
       " ('that', 'ADP'),\n",
       " ('it', 'PRON'),\n",
       " ('has', 'VERB'),\n",
       " ('been', 'VERB'),\n",
       " ('held', 'VERB'),\n",
       " ('in', 'ADP'),\n",
       " ('Europe.', 'NOUN'),\n",
       " ('Show', 'NOUN'),\n",
       " ('me', 'PRON'),\n",
       " ('the', 'DET'),\n",
       " ('cheapest', 'ADJ'),\n",
       " ('round', 'NOUN'),\n",
       " ('trips', 'NOUN'),\n",
       " ('from', 'ADP'),\n",
       " ('Dallas', 'NOUN'),\n",
       " ('to', 'PRT'),\n",
       " ('Atlanta', 'NOUN'),\n",
       " ('I', 'PRON'),\n",
       " ('would', 'VERB'),\n",
       " ('like', 'ADP'),\n",
       " ('to', 'PRT'),\n",
       " ('see', 'VERB'),\n",
       " ('flights', 'NOUN'),\n",
       " ('from', 'ADP'),\n",
       " ('Denver', 'NOUN'),\n",
       " ('to', 'PRT'),\n",
       " ('Philadelphia.', 'NOUN'),\n",
       " ('Show', 'NOUN'),\n",
       " ('me', 'PRON'),\n",
       " ('the', 'DET'),\n",
       " ('price', 'NOUN'),\n",
       " ('of', 'ADP'),\n",
       " ('the', 'DET'),\n",
       " ('flights', 'NOUN'),\n",
       " ('leaving', 'VERB'),\n",
       " ('Atlanta', 'NOUN'),\n",
       " ('at', 'ADP'),\n",
       " ('about', 'ADP'),\n",
       " ('3', 'NUM'),\n",
       " ('in', 'ADP'),\n",
       " ('the', 'DET'),\n",
       " ('afternoon', 'NOUN'),\n",
       " ('and', 'CONJ'),\n",
       " ('arriving', 'VERB'),\n",
       " ('in', 'ADP'),\n",
       " ('San', 'NOUN'),\n",
       " ('Francisco.', 'NOUN'),\n",
       " ('NASA', 'NOUN'),\n",
       " ('invited', 'VERB'),\n",
       " ('social', 'ADJ'),\n",
       " ('media', 'NOUN'),\n",
       " ('users', 'NOUN'),\n",
       " ('to', 'PRT'),\n",
       " ('experience', 'NOUN'),\n",
       " ('the', 'DET'),\n",
       " ('launch', 'NOUN'),\n",
       " ('of', 'ADP'),\n",
       " ('ICESAT-2', 'NOUN'),\n",
       " ('Satellite.', 'NOUN')]"
      ]
     },
     "execution_count": 83,
     "metadata": {},
     "output_type": "execute_result"
    }
   ],
   "source": [
    "tagged_seq"
   ]
  },
  {
   "cell_type": "code",
   "execution_count": 84,
   "metadata": {},
   "outputs": [],
   "source": [
    "# As we can see the approach has correctly identified the words"
   ]
  },
  {
   "cell_type": "code",
   "execution_count": 87,
   "metadata": {},
   "outputs": [
    {
     "name": "stdout",
     "output_type": "stream",
     "text": [
      "Time taken in seconds:  52.530213832855225\n"
     ]
    }
   ],
   "source": [
    "# viterbi_3 evaluation\n",
    "start = time.time()\n",
    "tagged_seq = Viterbi_3(sample_test_words)\n",
    "end = time.time()\n",
    "difference = end-start\n",
    "print(\"Time taken in seconds: \", difference)"
   ]
  },
  {
   "cell_type": "code",
   "execution_count": 88,
   "metadata": {},
   "outputs": [
    {
     "data": {
      "text/plain": [
       "[('Android', 'NOUN'),\n",
       " ('is', 'VERB'),\n",
       " ('a', 'DET'),\n",
       " ('mobile', 'ADJ'),\n",
       " ('operating', 'NOUN'),\n",
       " ('system', 'NOUN'),\n",
       " ('developed', 'VERB'),\n",
       " ('by', 'ADP'),\n",
       " ('Google.', 'DET'),\n",
       " ('Android', 'NOUN'),\n",
       " ('has', 'VERB'),\n",
       " ('been', 'VERB'),\n",
       " ('the', 'DET'),\n",
       " ('best-selling', 'NOUN'),\n",
       " ('OS', 'NOUN'),\n",
       " ('worldwide', 'NOUN'),\n",
       " ('on', 'ADP'),\n",
       " ('smartphones', 'DET'),\n",
       " ('since', 'ADP'),\n",
       " ('2011', 'DET'),\n",
       " ('and', 'CONJ'),\n",
       " ('on', 'ADP'),\n",
       " ('tablets', 'DET'),\n",
       " ('since', 'ADP'),\n",
       " ('2013.', 'DET'),\n",
       " ('Google', 'NOUN'),\n",
       " ('and', 'CONJ'),\n",
       " ('Twitter', 'NOUN'),\n",
       " ('made', 'VERB'),\n",
       " ('a', 'DET'),\n",
       " ('deal', 'NOUN'),\n",
       " ('in', 'ADP'),\n",
       " ('2015', 'DET'),\n",
       " ('that', 'ADP'),\n",
       " ('gave', 'VERB'),\n",
       " ('Google', 'X'),\n",
       " ('access', 'NOUN'),\n",
       " ('to', 'PRT'),\n",
       " (\"Twitter's\", 'VERB'),\n",
       " ('firehose.', 'X'),\n",
       " ('Twitter', 'VERB'),\n",
       " ('is', 'VERB'),\n",
       " ('an', 'DET'),\n",
       " ('online', 'NOUN'),\n",
       " ('news', 'NOUN'),\n",
       " ('and', 'CONJ'),\n",
       " ('social', 'ADJ'),\n",
       " ('networking', 'NOUN'),\n",
       " ('service', 'NOUN'),\n",
       " ('on', 'ADP'),\n",
       " ('which', 'DET'),\n",
       " ('users', 'NOUN'),\n",
       " ('post', 'NOUN'),\n",
       " ('and', 'CONJ'),\n",
       " ('interact', 'NOUN'),\n",
       " ('with', 'ADP'),\n",
       " ('messages', 'DET'),\n",
       " ('known', 'ADJ'),\n",
       " ('as', 'ADP'),\n",
       " ('tweets.', 'DET'),\n",
       " ('Before', 'ADP'),\n",
       " ('entering', 'VERB'),\n",
       " ('politics,', 'X'),\n",
       " ('Donald', 'NOUN'),\n",
       " ('Trump', 'NOUN'),\n",
       " ('was', 'VERB'),\n",
       " ('a', 'DET'),\n",
       " ('domineering', 'NOUN'),\n",
       " ('businessman', 'NOUN'),\n",
       " ('and', 'CONJ'),\n",
       " ('a', 'DET'),\n",
       " ('television', 'NOUN'),\n",
       " ('personality.', 'NOUN'),\n",
       " ('The', 'DET'),\n",
       " ('2018', 'NOUN'),\n",
       " ('FIFA', 'NOUN'),\n",
       " ('World', 'NOUN'),\n",
       " ('Cup', 'NOUN'),\n",
       " ('is', 'VERB'),\n",
       " ('the', 'DET'),\n",
       " ('21st', 'NOUN'),\n",
       " ('FIFA', 'NOUN'),\n",
       " ('World', 'NOUN'),\n",
       " ('Cup,', 'NOUN'),\n",
       " ('an', 'DET'),\n",
       " ('international', 'ADJ'),\n",
       " ('football', 'NOUN'),\n",
       " ('tournament', 'NOUN'),\n",
       " ('contested', 'NOUN'),\n",
       " ('once', 'ADV'),\n",
       " ('every', 'DET'),\n",
       " ('four', 'NUM'),\n",
       " ('years.', 'NOUN'),\n",
       " ('This', 'DET'),\n",
       " ('is', 'VERB'),\n",
       " ('the', 'DET'),\n",
       " ('first', 'ADJ'),\n",
       " ('World', 'NOUN'),\n",
       " ('Cup', 'NOUN'),\n",
       " ('to', 'PRT'),\n",
       " ('be', 'VERB'),\n",
       " ('held', 'VERB'),\n",
       " ('in', 'ADP'),\n",
       " ('Eastern', 'NOUN'),\n",
       " ('Europe', 'NOUN'),\n",
       " ('and', 'CONJ'),\n",
       " ('the', 'DET'),\n",
       " ('11th', 'ADJ'),\n",
       " ('time', 'NOUN'),\n",
       " ('that', 'ADP'),\n",
       " ('it', 'PRON'),\n",
       " ('has', 'VERB'),\n",
       " ('been', 'VERB'),\n",
       " ('held', 'VERB'),\n",
       " ('in', 'ADP'),\n",
       " ('Europe.', 'DET'),\n",
       " ('Show', 'NOUN'),\n",
       " ('me', 'PRON'),\n",
       " ('the', 'DET'),\n",
       " ('cheapest', 'ADJ'),\n",
       " ('round', 'NOUN'),\n",
       " ('trips', 'NOUN'),\n",
       " ('from', 'ADP'),\n",
       " ('Dallas', 'NOUN'),\n",
       " ('to', 'PRT'),\n",
       " ('Atlanta', 'NOUN'),\n",
       " ('I', 'PRON'),\n",
       " ('would', 'VERB'),\n",
       " ('like', 'ADP'),\n",
       " ('to', 'PRT'),\n",
       " ('see', 'VERB'),\n",
       " ('flights', 'NOUN'),\n",
       " ('from', 'ADP'),\n",
       " ('Denver', 'NOUN'),\n",
       " ('to', 'PRT'),\n",
       " ('Philadelphia.', 'VERB'),\n",
       " ('Show', 'X'),\n",
       " ('me', 'PRON'),\n",
       " ('the', 'DET'),\n",
       " ('price', 'NOUN'),\n",
       " ('of', 'ADP'),\n",
       " ('the', 'DET'),\n",
       " ('flights', 'NOUN'),\n",
       " ('leaving', 'VERB'),\n",
       " ('Atlanta', 'NOUN'),\n",
       " ('at', 'ADP'),\n",
       " ('about', 'ADP'),\n",
       " ('3', 'NUM'),\n",
       " ('in', 'ADP'),\n",
       " ('the', 'DET'),\n",
       " ('afternoon', 'NOUN'),\n",
       " ('and', 'CONJ'),\n",
       " ('arriving', 'NOUN'),\n",
       " ('in', 'ADP'),\n",
       " ('San', 'NOUN'),\n",
       " ('Francisco.', 'NOUN'),\n",
       " ('NASA', 'NOUN'),\n",
       " ('invited', 'NOUN'),\n",
       " ('social', 'ADJ'),\n",
       " ('media', 'NOUN'),\n",
       " ('users', 'NOUN'),\n",
       " ('to', 'PRT'),\n",
       " ('experience', 'NOUN'),\n",
       " ('the', 'DET'),\n",
       " ('launch', 'NOUN'),\n",
       " ('of', 'ADP'),\n",
       " ('ICESAT-2', 'DET'),\n",
       " ('Satellite.', 'NOUN')]"
      ]
     },
     "execution_count": 88,
     "metadata": {},
     "output_type": "execute_result"
    }
   ],
   "source": [
    "tagged_seq"
   ]
  },
  {
   "cell_type": "code",
   "execution_count": null,
   "metadata": {},
   "outputs": [],
   "source": []
  }
 ],
 "metadata": {
  "kernelspec": {
   "display_name": "Python 3",
   "language": "python",
   "name": "python3"
  },
  "language_info": {
   "codemirror_mode": {
    "name": "ipython",
    "version": 3
   },
   "file_extension": ".py",
   "mimetype": "text/x-python",
   "name": "python",
   "nbconvert_exporter": "python",
   "pygments_lexer": "ipython3",
   "version": "3.7.6"
  }
 },
 "nbformat": 4,
 "nbformat_minor": 2
}
